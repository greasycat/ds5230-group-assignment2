{
 "cells": [
  {
   "cell_type": "code",
   "execution_count": 1,
   "id": "bc709d04",
   "metadata": {},
   "outputs": [],
   "source": [
    "import numpy as np\n",
    "import pandas as pd\n",
    "import itertools\n",
    "from sklearn.neural_network import BernoulliRBM\n",
    "from sklearn.model_selection import KFold\n",
    "from sklearn.preprocessing import MinMaxScaler\n",
    "from sklearn.cluster import KMeans\n",
    "from sklearn.metrics import silhouette_score"
   ]
  },
  {
   "cell_type": "code",
   "execution_count": 2,
   "id": "c2a150b8",
   "metadata": {},
   "outputs": [
    {
     "name": "stdout",
     "output_type": "stream",
     "text": [
      "shape of jasper_embeddings: (320, 768)\n",
      "shape of jasper_metadata: (320, 5)\n"
     ]
    }
   ],
   "source": [
    "jasper_embeddings = np.loadtxt('../cache/embeddings.tsv', delimiter='\\t')\n",
    "print(f\"shape of jasper_embeddings: {jasper_embeddings.shape}\")\n",
    "jasper_metadata = pd.read_csv('../cache/meta.tsv', sep='\\t')\n",
    "print(f\"shape of jasper_metadata: {jasper_metadata.shape}\")\n"
   ]
  },
  {
   "cell_type": "markdown",
   "id": "7fdb9313",
   "metadata": {},
   "source": []
  },
  {
   "cell_type": "code",
   "execution_count": 3,
   "id": "62672d71",
   "metadata": {},
   "outputs": [],
   "source": [
    "param_grid = {\n",
    "    \"n_components\": [20, 30, 50],\n",
    "    \"n_iter\": [50, 100],\n",
    "    \"batch_size\": [32, 64],\n",
    "    \"learning_rate\": [0.005, 0.01],\n",
    "}\n",
    "\n",
    "param_combinations = list(itertools.product(\n",
    "    param_grid[\"n_components\"],\n",
    "    param_grid[\"n_iter\"],\n",
    "    param_grid[\"batch_size\"],\n",
    "    param_grid[\"learning_rate\"]\n",
    "))\n"
   ]
  },
  {
   "cell_type": "code",
   "execution_count": 4,
   "id": "cc6a9d37",
   "metadata": {},
   "outputs": [],
   "source": [
    "def build_rbm_model(n_components=50, learning_rate=0.01, batch_size=10, n_iter=20):\n",
    "    rbm = BernoulliRBM(\n",
    "        n_components=n_components,\n",
    "        learning_rate=learning_rate,\n",
    "        batch_size=batch_size,\n",
    "        n_iter=n_iter,\n",
    "        verbose=1\n",
    "    )\n",
    "    return rbm"
   ]
  },
  {
   "cell_type": "code",
   "execution_count": 5,
   "id": "738c5bc2",
   "metadata": {},
   "outputs": [],
   "source": [
    "def evaluate_rbm_with_kmeans(data, n_components, n_iter, batch_size, learning_rate, k_clusters=7):\n",
    "    scaler = MinMaxScaler()\n",
    "    data_scaled = scaler.fit_transform(data)\n",
    "\n",
    "    kf = KFold(n_splits=5, shuffle=True, random_state=42)\n",
    "    all_latents = []\n",
    "\n",
    "    for train_idx, test_idx in kf.split(data_scaled):\n",
    "        X_train, X_test = data_scaled[train_idx], data_scaled[test_idx]\n",
    "        rbm = BernoulliRBM(\n",
    "            n_components=n_components,\n",
    "            learning_rate=learning_rate,\n",
    "            batch_size=batch_size,\n",
    "            n_iter=n_iter,\n",
    "            verbose=0\n",
    "        )\n",
    "        rbm.fit(X_train)\n",
    "        latent = rbm.transform(X_test)\n",
    "        all_latents.append(latent)\n",
    "\n",
    "    rbm_latent_space = np.vstack(all_latents)\n",
    "\n",
    "    kmeans = KMeans(n_clusters=k_clusters, n_init='auto', random_state=42)\n",
    "    labels = kmeans.fit_predict(rbm_latent_space)\n",
    "    score = silhouette_score(rbm_latent_space, labels)\n",
    "\n",
    "    return score"
   ]
  },
  {
   "cell_type": "code",
   "execution_count": 6,
   "id": "3dbb7928",
   "metadata": {},
   "outputs": [],
   "source": [
    "results = []\n",
    "for (n_components, n_iter, batch_size, learning_rate) in param_combinations:\n",
    "    score = evaluate_rbm_with_kmeans(\n",
    "        jasper_embeddings,\n",
    "        n_components=n_components,\n",
    "        n_iter=n_iter,\n",
    "        batch_size=batch_size,\n",
    "        learning_rate=learning_rate\n",
    "    )\n",
    "    results.append({\n",
    "        \"n_components\": n_components,\n",
    "        \"n_iter\": n_iter,\n",
    "        \"batch_size\": batch_size,\n",
    "        \"learning_rate\": learning_rate,\n",
    "        \"silhouette_score\": round(score, 4)\n",
    "    })"
   ]
  },
  {
   "cell_type": "code",
   "execution_count": 7,
   "id": "3c1f7f84",
   "metadata": {},
   "outputs": [
    {
     "name": "stdout",
     "output_type": "stream",
     "text": [
      "top RBM params :\n"
     ]
    },
    {
     "data": {
      "text/html": [
       "<div>\n",
       "<style scoped>\n",
       "    .dataframe tbody tr th:only-of-type {\n",
       "        vertical-align: middle;\n",
       "    }\n",
       "\n",
       "    .dataframe tbody tr th {\n",
       "        vertical-align: top;\n",
       "    }\n",
       "\n",
       "    .dataframe thead th {\n",
       "        text-align: right;\n",
       "    }\n",
       "</style>\n",
       "<table border=\"1\" class=\"dataframe\">\n",
       "  <thead>\n",
       "    <tr style=\"text-align: right;\">\n",
       "      <th></th>\n",
       "      <th>n_components</th>\n",
       "      <th>n_iter</th>\n",
       "      <th>batch_size</th>\n",
       "      <th>learning_rate</th>\n",
       "      <th>silhouette_score</th>\n",
       "    </tr>\n",
       "  </thead>\n",
       "  <tbody>\n",
       "    <tr>\n",
       "      <th>0</th>\n",
       "      <td>50</td>\n",
       "      <td>100</td>\n",
       "      <td>32</td>\n",
       "      <td>0.010</td>\n",
       "      <td>0.7006</td>\n",
       "    </tr>\n",
       "    <tr>\n",
       "      <th>1</th>\n",
       "      <td>30</td>\n",
       "      <td>100</td>\n",
       "      <td>32</td>\n",
       "      <td>0.010</td>\n",
       "      <td>0.6889</td>\n",
       "    </tr>\n",
       "    <tr>\n",
       "      <th>2</th>\n",
       "      <td>20</td>\n",
       "      <td>100</td>\n",
       "      <td>32</td>\n",
       "      <td>0.010</td>\n",
       "      <td>0.6870</td>\n",
       "    </tr>\n",
       "    <tr>\n",
       "      <th>3</th>\n",
       "      <td>50</td>\n",
       "      <td>50</td>\n",
       "      <td>32</td>\n",
       "      <td>0.010</td>\n",
       "      <td>0.6526</td>\n",
       "    </tr>\n",
       "    <tr>\n",
       "      <th>4</th>\n",
       "      <td>30</td>\n",
       "      <td>50</td>\n",
       "      <td>32</td>\n",
       "      <td>0.010</td>\n",
       "      <td>0.6505</td>\n",
       "    </tr>\n",
       "    <tr>\n",
       "      <th>5</th>\n",
       "      <td>50</td>\n",
       "      <td>100</td>\n",
       "      <td>64</td>\n",
       "      <td>0.010</td>\n",
       "      <td>0.6267</td>\n",
       "    </tr>\n",
       "    <tr>\n",
       "      <th>6</th>\n",
       "      <td>20</td>\n",
       "      <td>50</td>\n",
       "      <td>32</td>\n",
       "      <td>0.010</td>\n",
       "      <td>0.6223</td>\n",
       "    </tr>\n",
       "    <tr>\n",
       "      <th>7</th>\n",
       "      <td>30</td>\n",
       "      <td>100</td>\n",
       "      <td>32</td>\n",
       "      <td>0.005</td>\n",
       "      <td>0.6133</td>\n",
       "    </tr>\n",
       "    <tr>\n",
       "      <th>8</th>\n",
       "      <td>50</td>\n",
       "      <td>100</td>\n",
       "      <td>32</td>\n",
       "      <td>0.005</td>\n",
       "      <td>0.6055</td>\n",
       "    </tr>\n",
       "    <tr>\n",
       "      <th>9</th>\n",
       "      <td>20</td>\n",
       "      <td>100</td>\n",
       "      <td>64</td>\n",
       "      <td>0.010</td>\n",
       "      <td>0.6043</td>\n",
       "    </tr>\n",
       "    <tr>\n",
       "      <th>10</th>\n",
       "      <td>30</td>\n",
       "      <td>100</td>\n",
       "      <td>64</td>\n",
       "      <td>0.010</td>\n",
       "      <td>0.5849</td>\n",
       "    </tr>\n",
       "    <tr>\n",
       "      <th>11</th>\n",
       "      <td>20</td>\n",
       "      <td>100</td>\n",
       "      <td>32</td>\n",
       "      <td>0.005</td>\n",
       "      <td>0.5757</td>\n",
       "    </tr>\n",
       "    <tr>\n",
       "      <th>12</th>\n",
       "      <td>50</td>\n",
       "      <td>50</td>\n",
       "      <td>64</td>\n",
       "      <td>0.010</td>\n",
       "      <td>0.5580</td>\n",
       "    </tr>\n",
       "    <tr>\n",
       "      <th>13</th>\n",
       "      <td>30</td>\n",
       "      <td>50</td>\n",
       "      <td>64</td>\n",
       "      <td>0.010</td>\n",
       "      <td>0.5408</td>\n",
       "    </tr>\n",
       "    <tr>\n",
       "      <th>14</th>\n",
       "      <td>50</td>\n",
       "      <td>100</td>\n",
       "      <td>64</td>\n",
       "      <td>0.005</td>\n",
       "      <td>0.5354</td>\n",
       "    </tr>\n",
       "    <tr>\n",
       "      <th>15</th>\n",
       "      <td>50</td>\n",
       "      <td>50</td>\n",
       "      <td>32</td>\n",
       "      <td>0.005</td>\n",
       "      <td>0.5333</td>\n",
       "    </tr>\n",
       "    <tr>\n",
       "      <th>16</th>\n",
       "      <td>30</td>\n",
       "      <td>50</td>\n",
       "      <td>32</td>\n",
       "      <td>0.005</td>\n",
       "      <td>0.5154</td>\n",
       "    </tr>\n",
       "    <tr>\n",
       "      <th>17</th>\n",
       "      <td>30</td>\n",
       "      <td>100</td>\n",
       "      <td>64</td>\n",
       "      <td>0.005</td>\n",
       "      <td>0.5056</td>\n",
       "    </tr>\n",
       "    <tr>\n",
       "      <th>18</th>\n",
       "      <td>20</td>\n",
       "      <td>50</td>\n",
       "      <td>64</td>\n",
       "      <td>0.010</td>\n",
       "      <td>0.4927</td>\n",
       "    </tr>\n",
       "    <tr>\n",
       "      <th>19</th>\n",
       "      <td>30</td>\n",
       "      <td>50</td>\n",
       "      <td>64</td>\n",
       "      <td>0.005</td>\n",
       "      <td>0.4890</td>\n",
       "    </tr>\n",
       "    <tr>\n",
       "      <th>20</th>\n",
       "      <td>20</td>\n",
       "      <td>50</td>\n",
       "      <td>32</td>\n",
       "      <td>0.005</td>\n",
       "      <td>0.4829</td>\n",
       "    </tr>\n",
       "    <tr>\n",
       "      <th>21</th>\n",
       "      <td>50</td>\n",
       "      <td>50</td>\n",
       "      <td>64</td>\n",
       "      <td>0.005</td>\n",
       "      <td>0.4809</td>\n",
       "    </tr>\n",
       "    <tr>\n",
       "      <th>22</th>\n",
       "      <td>20</td>\n",
       "      <td>50</td>\n",
       "      <td>64</td>\n",
       "      <td>0.005</td>\n",
       "      <td>0.4745</td>\n",
       "    </tr>\n",
       "    <tr>\n",
       "      <th>23</th>\n",
       "      <td>20</td>\n",
       "      <td>100</td>\n",
       "      <td>64</td>\n",
       "      <td>0.005</td>\n",
       "      <td>0.4359</td>\n",
       "    </tr>\n",
       "  </tbody>\n",
       "</table>\n",
       "</div>"
      ],
      "text/plain": [
       "    n_components  n_iter  batch_size  learning_rate  silhouette_score\n",
       "0             50     100          32          0.010            0.7006\n",
       "1             30     100          32          0.010            0.6889\n",
       "2             20     100          32          0.010            0.6870\n",
       "3             50      50          32          0.010            0.6526\n",
       "4             30      50          32          0.010            0.6505\n",
       "5             50     100          64          0.010            0.6267\n",
       "6             20      50          32          0.010            0.6223\n",
       "7             30     100          32          0.005            0.6133\n",
       "8             50     100          32          0.005            0.6055\n",
       "9             20     100          64          0.010            0.6043\n",
       "10            30     100          64          0.010            0.5849\n",
       "11            20     100          32          0.005            0.5757\n",
       "12            50      50          64          0.010            0.5580\n",
       "13            30      50          64          0.010            0.5408\n",
       "14            50     100          64          0.005            0.5354\n",
       "15            50      50          32          0.005            0.5333\n",
       "16            30      50          32          0.005            0.5154\n",
       "17            30     100          64          0.005            0.5056\n",
       "18            20      50          64          0.010            0.4927\n",
       "19            30      50          64          0.005            0.4890\n",
       "20            20      50          32          0.005            0.4829\n",
       "21            50      50          64          0.005            0.4809\n",
       "22            20      50          64          0.005            0.4745\n",
       "23            20     100          64          0.005            0.4359"
      ]
     },
     "metadata": {},
     "output_type": "display_data"
    },
    {
     "data": {
      "text/plain": [
       "n_components         50.0000\n",
       "n_iter              100.0000\n",
       "batch_size           32.0000\n",
       "learning_rate         0.0100\n",
       "silhouette_score      0.7006\n",
       "Name: 0, dtype: float64"
      ]
     },
     "execution_count": 7,
     "metadata": {},
     "output_type": "execute_result"
    }
   ],
   "source": [
    "results_df = pd.DataFrame(results)\n",
    "results_df = results_df.sort_values(by=\"silhouette_score\", ascending=False).reset_index(drop=True)\n",
    "print(\"top RBM params :\")\n",
    "display(results_df)\n",
    "\n",
    "best_params = results_df.iloc[0]\n",
    "best_params"
   ]
  },
  {
   "cell_type": "code",
   "execution_count": 8,
   "id": "ddc4c18c",
   "metadata": {},
   "outputs": [
    {
     "name": "stdout",
     "output_type": "stream",
     "text": [
      "[BernoulliRBM] Iteration 1, pseudo-likelihood = -530.24, time = 0.06s\n",
      "[BernoulliRBM] Iteration 2, pseudo-likelihood = -528.78, time = 0.07s\n",
      "[BernoulliRBM] Iteration 3, pseudo-likelihood = -528.98, time = 0.07s\n",
      "[BernoulliRBM] Iteration 4, pseudo-likelihood = -526.31, time = 0.08s\n",
      "[BernoulliRBM] Iteration 5, pseudo-likelihood = -527.48, time = 0.06s\n",
      "[BernoulliRBM] Iteration 6, pseudo-likelihood = -528.39, time = 0.06s\n",
      "[BernoulliRBM] Iteration 7, pseudo-likelihood = -528.54, time = 0.05s\n",
      "[BernoulliRBM] Iteration 8, pseudo-likelihood = -525.85, time = 0.05s\n",
      "[BernoulliRBM] Iteration 9, pseudo-likelihood = -530.19, time = 0.09s\n",
      "[BernoulliRBM] Iteration 10, pseudo-likelihood = -525.79, time = 0.05s\n",
      "[BernoulliRBM] Iteration 11, pseudo-likelihood = -527.10, time = 0.05s\n",
      "[BernoulliRBM] Iteration 12, pseudo-likelihood = -528.17, time = 0.06s\n",
      "[BernoulliRBM] Iteration 13, pseudo-likelihood = -528.16, time = 0.05s\n",
      "[BernoulliRBM] Iteration 14, pseudo-likelihood = -528.21, time = 0.07s\n",
      "[BernoulliRBM] Iteration 15, pseudo-likelihood = -529.55, time = 0.06s\n",
      "[BernoulliRBM] Iteration 16, pseudo-likelihood = -526.06, time = 0.07s\n",
      "[BernoulliRBM] Iteration 17, pseudo-likelihood = -524.30, time = 0.05s\n",
      "[BernoulliRBM] Iteration 18, pseudo-likelihood = -525.35, time = 0.06s\n",
      "[BernoulliRBM] Iteration 19, pseudo-likelihood = -523.75, time = 0.05s\n",
      "[BernoulliRBM] Iteration 20, pseudo-likelihood = -523.50, time = 0.04s\n",
      "[BernoulliRBM] Iteration 21, pseudo-likelihood = -525.96, time = 0.06s\n",
      "[BernoulliRBM] Iteration 22, pseudo-likelihood = -527.61, time = 0.07s\n",
      "[BernoulliRBM] Iteration 23, pseudo-likelihood = -524.97, time = 0.05s\n",
      "[BernoulliRBM] Iteration 24, pseudo-likelihood = -527.20, time = 0.07s\n",
      "[BernoulliRBM] Iteration 25, pseudo-likelihood = -527.44, time = 0.04s\n",
      "[BernoulliRBM] Iteration 26, pseudo-likelihood = -526.45, time = 0.05s\n",
      "[BernoulliRBM] Iteration 27, pseudo-likelihood = -524.52, time = 0.05s\n",
      "[BernoulliRBM] Iteration 28, pseudo-likelihood = -525.03, time = 0.06s\n",
      "[BernoulliRBM] Iteration 29, pseudo-likelihood = -528.77, time = 0.05s\n",
      "[BernoulliRBM] Iteration 30, pseudo-likelihood = -525.22, time = 0.04s\n",
      "[BernoulliRBM] Iteration 31, pseudo-likelihood = -527.02, time = 0.06s\n",
      "[BernoulliRBM] Iteration 32, pseudo-likelihood = -528.39, time = 0.05s\n",
      "[BernoulliRBM] Iteration 33, pseudo-likelihood = -525.08, time = 0.05s\n",
      "[BernoulliRBM] Iteration 34, pseudo-likelihood = -526.93, time = 0.06s\n",
      "[BernoulliRBM] Iteration 35, pseudo-likelihood = -527.26, time = 0.05s\n",
      "[BernoulliRBM] Iteration 36, pseudo-likelihood = -525.89, time = 0.06s\n",
      "[BernoulliRBM] Iteration 37, pseudo-likelihood = -525.89, time = 0.07s\n",
      "[BernoulliRBM] Iteration 38, pseudo-likelihood = -527.08, time = 0.05s\n",
      "[BernoulliRBM] Iteration 39, pseudo-likelihood = -525.88, time = 0.07s\n",
      "[BernoulliRBM] Iteration 40, pseudo-likelihood = -527.43, time = 0.06s\n",
      "[BernoulliRBM] Iteration 41, pseudo-likelihood = -527.48, time = 0.05s\n",
      "[BernoulliRBM] Iteration 42, pseudo-likelihood = -526.31, time = 0.05s\n",
      "[BernoulliRBM] Iteration 43, pseudo-likelihood = -528.66, time = 0.05s\n",
      "[BernoulliRBM] Iteration 44, pseudo-likelihood = -528.82, time = 0.05s\n",
      "[BernoulliRBM] Iteration 45, pseudo-likelihood = -524.65, time = 0.05s\n",
      "[BernoulliRBM] Iteration 46, pseudo-likelihood = -529.18, time = 0.05s\n",
      "[BernoulliRBM] Iteration 47, pseudo-likelihood = -525.77, time = 0.05s\n",
      "[BernoulliRBM] Iteration 48, pseudo-likelihood = -526.63, time = 0.08s\n",
      "[BernoulliRBM] Iteration 49, pseudo-likelihood = -525.34, time = 0.06s\n",
      "[BernoulliRBM] Iteration 50, pseudo-likelihood = -526.34, time = 0.06s\n",
      "[BernoulliRBM] Iteration 51, pseudo-likelihood = -525.53, time = 0.06s\n",
      "[BernoulliRBM] Iteration 52, pseudo-likelihood = -527.97, time = 0.06s\n",
      "[BernoulliRBM] Iteration 53, pseudo-likelihood = -522.87, time = 0.07s\n",
      "[BernoulliRBM] Iteration 54, pseudo-likelihood = -526.91, time = 0.06s\n",
      "[BernoulliRBM] Iteration 55, pseudo-likelihood = -526.19, time = 0.09s\n",
      "[BernoulliRBM] Iteration 56, pseudo-likelihood = -527.80, time = 0.05s\n",
      "[BernoulliRBM] Iteration 57, pseudo-likelihood = -526.99, time = 0.06s\n",
      "[BernoulliRBM] Iteration 58, pseudo-likelihood = -525.66, time = 0.08s\n",
      "[BernoulliRBM] Iteration 59, pseudo-likelihood = -527.78, time = 0.05s\n",
      "[BernoulliRBM] Iteration 60, pseudo-likelihood = -528.71, time = 0.06s\n",
      "[BernoulliRBM] Iteration 61, pseudo-likelihood = -527.17, time = 0.06s\n",
      "[BernoulliRBM] Iteration 62, pseudo-likelihood = -526.84, time = 0.06s\n",
      "[BernoulliRBM] Iteration 63, pseudo-likelihood = -527.55, time = 0.07s\n",
      "[BernoulliRBM] Iteration 64, pseudo-likelihood = -526.38, time = 0.07s\n",
      "[BernoulliRBM] Iteration 65, pseudo-likelihood = -527.30, time = 0.05s\n",
      "[BernoulliRBM] Iteration 66, pseudo-likelihood = -526.72, time = 0.05s\n",
      "[BernoulliRBM] Iteration 67, pseudo-likelihood = -526.19, time = 0.08s\n",
      "[BernoulliRBM] Iteration 68, pseudo-likelihood = -527.09, time = 0.05s\n",
      "[BernoulliRBM] Iteration 69, pseudo-likelihood = -525.09, time = 0.07s\n",
      "[BernoulliRBM] Iteration 70, pseudo-likelihood = -524.73, time = 0.06s\n",
      "[BernoulliRBM] Iteration 71, pseudo-likelihood = -524.45, time = 0.09s\n",
      "[BernoulliRBM] Iteration 72, pseudo-likelihood = -527.80, time = 0.07s\n",
      "[BernoulliRBM] Iteration 73, pseudo-likelihood = -525.99, time = 0.08s\n",
      "[BernoulliRBM] Iteration 74, pseudo-likelihood = -528.96, time = 0.05s\n",
      "[BernoulliRBM] Iteration 75, pseudo-likelihood = -527.23, time = 0.04s\n",
      "[BernoulliRBM] Iteration 76, pseudo-likelihood = -529.04, time = 0.07s\n",
      "[BernoulliRBM] Iteration 77, pseudo-likelihood = -526.76, time = 0.07s\n",
      "[BernoulliRBM] Iteration 78, pseudo-likelihood = -525.40, time = 0.07s\n",
      "[BernoulliRBM] Iteration 79, pseudo-likelihood = -525.97, time = 0.04s\n",
      "[BernoulliRBM] Iteration 80, pseudo-likelihood = -525.12, time = 0.04s\n",
      "[BernoulliRBM] Iteration 81, pseudo-likelihood = -527.20, time = 0.05s\n",
      "[BernoulliRBM] Iteration 82, pseudo-likelihood = -524.43, time = 0.04s\n",
      "[BernoulliRBM] Iteration 83, pseudo-likelihood = -527.28, time = 0.05s\n",
      "[BernoulliRBM] Iteration 84, pseudo-likelihood = -525.42, time = 0.05s\n",
      "[BernoulliRBM] Iteration 85, pseudo-likelihood = -527.39, time = 0.06s\n",
      "[BernoulliRBM] Iteration 86, pseudo-likelihood = -524.45, time = 0.07s\n",
      "[BernoulliRBM] Iteration 87, pseudo-likelihood = -528.90, time = 0.06s\n",
      "[BernoulliRBM] Iteration 88, pseudo-likelihood = -525.73, time = 0.05s\n",
      "[BernoulliRBM] Iteration 89, pseudo-likelihood = -525.79, time = 0.05s\n",
      "[BernoulliRBM] Iteration 90, pseudo-likelihood = -526.59, time = 0.04s\n",
      "[BernoulliRBM] Iteration 91, pseudo-likelihood = -524.30, time = 0.04s\n",
      "[BernoulliRBM] Iteration 92, pseudo-likelihood = -526.20, time = 0.05s\n",
      "[BernoulliRBM] Iteration 93, pseudo-likelihood = -524.26, time = 0.05s\n",
      "[BernoulliRBM] Iteration 94, pseudo-likelihood = -527.29, time = 0.04s\n",
      "[BernoulliRBM] Iteration 95, pseudo-likelihood = -528.12, time = 0.05s\n",
      "[BernoulliRBM] Iteration 96, pseudo-likelihood = -526.45, time = 0.04s\n",
      "[BernoulliRBM] Iteration 97, pseudo-likelihood = -526.48, time = 0.04s\n",
      "[BernoulliRBM] Iteration 98, pseudo-likelihood = -529.92, time = 0.06s\n",
      "[BernoulliRBM] Iteration 99, pseudo-likelihood = -526.77, time = 0.07s\n",
      "[BernoulliRBM] Iteration 100, pseudo-likelihood = -527.20, time = 0.06s\n",
      "final RBM latent space shape: (320, 50)\n"
     ]
    }
   ],
   "source": [
    "n_components = int(best_params['n_components'])\n",
    "n_iter = int(best_params['n_iter'])\n",
    "batch_size = int(best_params['batch_size'])\n",
    "learning_rate = float(best_params['learning_rate'])\n",
    "\n",
    "scaler = MinMaxScaler()\n",
    "scaled_embeddings = scaler.fit_transform(jasper_embeddings)\n",
    "\n",
    "rbm_final = BernoulliRBM(\n",
    "    n_components=n_components,\n",
    "    learning_rate=learning_rate,\n",
    "    batch_size=batch_size,\n",
    "    n_iter=n_iter,\n",
    "    verbose=1\n",
    ")\n",
    "rbm_final.fit(scaled_embeddings)\n",
    "rbm_latent_space_final = rbm_final.transform(scaled_embeddings)\n",
    "\n",
    "print(\"final RBM latent space shape:\", rbm_latent_space_final.shape)"
   ]
  },
  {
   "cell_type": "code",
   "execution_count": 9,
   "id": "dc1ce3a5",
   "metadata": {},
   "outputs": [],
   "source": [
    "def plot_3d(points, labels, title):\n",
    "    points = np.concatenate((points, labels), axis=1)\n",
    "    points = np.concatenate((points, title), axis=1)\n",
    "    df = pd.DataFrame(points, columns=['x', 'y', 'z', 'labels', 'title'])\n",
    "\n",
    "    fig = px.scatter_3d(df, x='x', y='y', z='z', color='labels', hover_data=['title'])\n",
    "    fig.update_traces(marker_size=3)\n",
    "    fig.update_layout(\n",
    "        scene=dict(\n",
    "            xaxis_title=\"1\",\n",
    "            yaxis_title=\"2\",\n",
    "            zaxis_title=\"3\",\n",
    "            aspectmode='data',\n",
    "            camera=dict(\n",
    "                eye=dict(x=0.7, y=0.7, z=0.7),\n",
    "                center=dict(x=0, y=0, z=0)\n",
    "            )\n",
    "        )\n",
    "    )\n",
    "    fig.show()"
   ]
  },
  {
   "cell_type": "code",
   "execution_count": 18,
   "id": "0ea99d9e",
   "metadata": {},
   "outputs": [
    {
     "data": {
      "application/vnd.plotly.v1+json": {
       "config": {
        "plotlyServerURL": "https://plot.ly"
       },
       "data": [
        {
         "customdata": [
          [
           "human level control through deep reinforcement learning"
          ],
          [
           "outracing champion gran turismo drivers with deep reinforcement learning sophy"
          ],
          [
           "magnetic control of tokamak plasmas through deep reinforcement learning"
          ],
          [
           "discovering faster matrix multiplication algorithms with reinforcement learning alphatensor"
          ],
          [
           "faster sorting algorithms discovered using deep reinforcement learning alphadev"
          ],
          [
           "learning to predict by the methods of temporal differences"
          ],
          [
           "playing atari with deep reinforcement learning"
          ],
          [
           "proximal policy optimization algorithms"
          ],
          [
           "learning to walk in minutes using massively parallel deep reinforcement learning anymal"
          ],
          [
           "learning robust perceptive locomotion for quadrupedal robots in the wild"
          ],
          [
           "bc z zero shot task generalization with robotic imitation learning"
          ],
          [
           "mastering diverse domains through world models dreamerv3"
          ],
          [
           "grounding large language models in interactive environments with online rl glam"
          ],
          [
           "efficient online reinforcement learning with offline data rlpd"
          ],
          [
           "reward design with language models"
          ],
          [
           "direct preference optimization your language model is secretly a reward model"
          ],
          [
           "retroformer retrospective large language agents with policy gradient optimization"
          ],
          [
           "learning from delayed rewards"
          ]
         ],
         "hovertemplate": "labels=dl_rl<br>x=%{x}<br>y=%{y}<br>z=%{z}<br>title=%{customdata[0]}<extra></extra>",
         "legendgroup": "dl_rl",
         "marker": {
          "color": "#636efa",
          "size": 3,
          "symbol": "circle"
         },
         "mode": "markers",
         "name": "dl_rl",
         "scene": "scene",
         "showlegend": true,
         "type": "scatter3d",
         "x": [
          -44.561700184919054,
          -45.62596752268541,
          -47.3946563337883,
          -23.23985987847736,
          -24.35478354235673,
          -41.46146285872166,
          -17.241457603235318,
          -56.131129319928846,
          -18.059688168872093,
          -17.224111100556417,
          21.41233785003645,
          -20.19178196604682,
          45.924368779263176,
          -55.17886391557909,
          42.96556618490314,
          41.8267820873032,
          41.26232321424045,
          -46.43549511977629
         ],
         "y": [
          -20.65376483114516,
          -21.53705717284321,
          -21.34819436901642,
          -19.411200151296377,
          -20.4523939655814,
          -13.003470569545856,
          -14.315016592783609,
          -19.48916071143767,
          -18.446217438512747,
          -17.191261566315713,
          -15.531868594229316,
          -18.717593792889655,
          -29.63651555292413,
          -20.941644443887643,
          -29.087858818088804,
          -36.95808672033224,
          -29.612928078497603,
          -19.439197413455272
         ],
         "z": [
          0.2684478319482307,
          0.7473744438726201,
          -0.7175627928135299,
          -9.630728631489832,
          -9.907675158453594,
          -0.16780073547939078,
          -11.70340000234517,
          1.865343128506181,
          -10.751767520353166,
          -11.11019048950305,
          -1.1863677202017862,
          -10.35022042516979,
          0.5262642050733708,
          1.3731920567514635,
          1.961301774066562,
          0.5147328349375903,
          2.3201285299469556,
          0.5346057233504947
         ]
        },
        {
         "customdata": [
          [
           "hybrid computing using a neural network with dynamic external memory"
          ],
          [
           "bidirectional recurrent neural networks"
          ],
          [
           "long short term memory"
          ],
          [
           "bidirectional recurrent neural networks"
          ],
          [
           "a signal flow graph approach to on line gradient calculation"
          ],
          [
           "learning complex extended sequences using the principle of history compression"
          ],
          [
           "learning task dependent distributed representations by backpropagation through structure"
          ],
          [
           "lstm recurrent networks learn simple context free and context sensitive languages"
          ],
          [
           "on line learning algorithms for locally recurrent neural networks"
          ],
          [
           "photo real talking head with deep bidirectional lstm"
          ],
          [
           "offline handwriting recognition with multidimensional recurrent neural networks"
          ],
          [
           "learning the long term structure of the blues"
          ],
          [
           "sequential deep learning for human action recognition"
          ],
          [
           "recurrent networks and narma modeling"
          ],
          [
           "an application of recurrent neural networks to discriminative keyword spotting"
          ],
          [
           "constructing deterministic finite state automata in recurrent neural networks"
          ],
          [
           "learning precise timing with lstm recurrent networks"
          ],
          [
           "unconstrained online handwriting recognition with recurrent neural networks"
          ],
          [
           "framewise phoneme classification with bidirectional lstm and other neural network architectures"
          ],
          [
           "kalman filters improve lstm network performance in problems unsolvable by traditional recurrent nets"
          ],
          [
           "neural turing machines"
          ],
          [
           "learning phrase representations using rnn encoder decoder for statistical machine translation"
          ],
          [
           "constructing long short term memory based deep recurrent neural networks for large vocabulary speech recognition"
          ],
          [
           "on the properties of neural machine translation encoder decoder approaches"
          ],
          [
           "sequence to sequence learning with neural networks"
          ],
          [
           "simplified minimal gated unit variations for recurrent neural networks"
          ],
          [
           "multilingual language processing from bytes"
          ],
          [
           "gate variants of gated recurrent unit gru neural networks"
          ],
          [
           "exploring the limits of language modeling"
          ],
          [
           "predictive business process monitoring with lstm neural networks"
          ],
          [
           "a multi horizon quantile recurrent forecaster"
          ],
          [
           "deep contextualized word representations"
          ],
          [
           "independently recurrent neural network indrnn building a longer and deeper rnn"
          ],
          [
           "recurrent neural networks for time series forecasting"
          ],
          [
           "forecasting cpi inflation components with hierarchical recurrent neural networks"
          ],
          [
           "a local learning algorithm for dynamic feedforward and recurrent networks"
          ]
         ],
         "hovertemplate": "labels=dl_rnn<br>x=%{x}<br>y=%{y}<br>z=%{z}<br>title=%{customdata[0]}<extra></extra>",
         "legendgroup": "dl_rnn",
         "marker": {
          "color": "#EF553B",
          "size": 3,
          "symbol": "circle"
         },
         "mode": "markers",
         "name": "dl_rnn",
         "scene": "scene",
         "showlegend": true,
         "type": "scatter3d",
         "x": [
          -38.1206398413789,
          -8.518418809299588,
          0.22638514340857646,
          -8.064607507132749,
          -42.11199437071349,
          -14.18164033372219,
          4.648152182538481,
          25.686185181575503,
          -12.107932267192423,
          20.3754459907197,
          10.704880206008557,
          -8.50191724352031,
          -3.3980190389873846,
          -48.63861139344816,
          15.290190640027932,
          -11.702406829205557,
          -0.978859879060433,
          13.9029092938089,
          24.135507255151676,
          -12.874958393808882,
          -10.205380422028021,
          11.343391423214852,
          25.83334221337846,
          18.642073188345993,
          20.650863722916547,
          -6.66338715114745,
          48.40929894559885,
          -5.987420065617074,
          28.308742739960373,
          -6.917639409040599,
          -43.86735762953186,
          42.89532210517704,
          -9.462679850125356,
          -16.129053147713392,
          -51.22384611641554,
          -38.41298946758817
         ],
         "y": [
          -11.573574471946785,
          3.7141074696704974,
          -2.138453439974433,
          4.913655844911996,
          -0.23236234064394737,
          1.9515076018874904,
          -3.338757702127973,
          -1.9802762014787343,
          8.884305066860668,
          -0.49565661940699496,
          0.450385931058511,
          -2.9056318636022453,
          26.645949550015203,
          -4.047127057355918,
          -0.22482267008949855,
          5.579228101030784,
          -2.708155775115831,
          0.06433888440768282,
          -1.5881342940083463,
          6.590957377428212,
          1.020191825504467,
          -6.28998402466666,
          -0.36519168506585714,
          -3.2796582512003347,
          -2.5900334942687957,
          12.64645552938195,
          2.944453123065205,
          13.830938968073829,
          -2.7158010800592858,
          -2.878860533544028,
          0.09166198554851651,
          -2.28439854433147,
          7.488062599596725,
          1.1781536539787858,
          -3.8577490337814684,
          -9.837179494580191
         ],
         "z": [
          3.300237093061275,
          11.917016460240815,
          11.29834181756872,
          11.923232528033989,
          5.927929926002615,
          11.925947653938685,
          7.288455796495901,
          10.775719180932823,
          9.951640510970774,
          9.202484952139677,
          9.409396278477644,
          12.316391458942888,
          5.933334593818826,
          10.272496287156123,
          10.086542224930907,
          11.354801500149545,
          10.82614595712735,
          10.161257736176122,
          9.53510140876845,
          10.47209985322227,
          11.993715310087882,
          7.365938795667275,
          8.702843872679473,
          9.993746791495175,
          9.842817638583993,
          10.02525680947516,
          1.1987089772682966,
          9.915584278871238,
          6.87499154975864,
          12.063137720937169,
          6.4043097786700045,
          7.408639290086966,
          11.021879044271733,
          12.228832875139814,
          9.341089969117101,
          2.7851285854319627
         ]
        },
        {
         "customdata": [
          [
           "learning representations by back propagating errors"
          ],
          [
           "highly accurate protein structure prediction with alphafold"
          ],
          [
           "induction of decision trees"
          ],
          [
           "nearest neighbor pattern classification"
          ],
          [
           "approximation capabilities of multilayer feedforward networks"
          ],
          [
           "face recognition using eigenfaces"
          ],
          [
           "no free lunch theorems for optimization"
          ],
          [
           "dropout a simple way to prevent neural networks from overfitting"
          ],
          [
           "random search for hyper parameter optimization"
          ],
          [
           "feature hashing for large scale multitask learning"
          ],
          [
           "on discriminative vs generative classifiers a comparison of logistic regression and naive bayes"
          ],
          [
           "the strength of weak learnability"
          ],
          [
           "bagging predictors"
          ],
          [
           "improved boosting algorithms using confidence rated predictions"
          ],
          [
           "random forests"
          ],
          [
           "efficient backprop"
          ],
          [
           "self organized formation of topologically correct feature maps"
          ],
          [
           "bootstrap methods another look at the jackknife"
          ],
          [
           "multilayer feedforward networks with a nonpolynomial activation function can approximate any function"
          ],
          [
           "hybrid monte carlo"
          ],
          [
           "a training algorithm for optimal margin classifier"
          ],
          [
           "document clustering based on non negative matrix factorization"
          ],
          [
           "learnability and the vapnik chervonenkis dimension"
          ],
          [
           "a decision theoretic generalization of on line learning and an application to boosting"
          ],
          [
           "multilayer feedforward networks are universal approximators"
          ],
          [
           "gaussian process optimization in the bandit setting no regret and experimental design"
          ],
          [
           "smote synthetic minority over sampling technique"
          ],
          [
           "hogwild a lock free approach to parallelizing stochastic gradient descent"
          ],
          [
           "maxout networks"
          ],
          [
           "auto encoding variational bayes"
          ],
          [
           "identifying and attacking the saddle point problem in high dimensional non convex optimization"
          ],
          [
           "neural machine translation by jointly learning to align and translate"
          ],
          [
           "deep neural networks are easily fooled high confidence predictions for unrecognizable images"
          ],
          [
           "adam a method for stochastic optimization"
          ],
          [
           "batch normalization accelerating deep network training by reducing internal covariate shift"
          ],
          [
           "deep learning and the information bottleneck principle"
          ],
          [
           "deep unsupervised learning using nonequilibrium thermodynamics"
          ],
          [
           "optimizing neural networks with kronecker factored approximate curvature"
          ],
          [
           "highway networks"
          ],
          [
           "dropout as a bayesian approximation representing model uncertainty in deep learning"
          ],
          [
           "xgboost a scalable tree boosting system"
          ],
          [
           "hyperband a novel bandit based approach to hyperparameter optimization"
          ],
          [
           "gaussian error linear units gelus"
          ],
          [
           "categorical reparameterization with gumbel softmax"
          ],
          [
           "understanding deep learning requires rethinking generalization"
          ],
          [
           "on the properties of the softmax function with application in game theory and reinforcement learning"
          ],
          [
           "stochastic gradient descent as approximate bayesian inference"
          ],
          [
           "gans trained by a two time scale update rule converge to a local nash equilibrium"
          ],
          [
           "smash one shot model architecture search through hypernetworks"
          ],
          [
           "understanding the disharmony between dropout and batch normalization by variance shift"
          ],
          [
           "umap uniform manifold approximation and projection for dimension reduction"
          ],
          [
           "the lottery ticket hypothesis finding sparse trainable neural networks"
          ],
          [
           "relational inductive biases deep learning and graph networks"
          ],
          [
           "on the covariance hessian relation in evolution strategies"
          ],
          [
           "neural tangent kernel convergence and generalization in neural networks"
          ],
          [
           "representation learning with contrastive predictive coding"
          ],
          [
           "reconciling modern machine learning practice and the classical bias variance trade off"
          ],
          [
           "the generalization error of random features regression precise asymptotics and double descent curve"
          ],
          [
           "zero memory optimizations toward training trillion parameter models"
          ],
          [
           "on the measure of intelligence"
          ],
          [
           "deep double descent where bigger models and more data hurt"
          ],
          [
           "implicit neural representations with periodic activation functions"
          ],
          [
           "fourier features let networks learn high frequency functions in low dimensional domains"
          ],
          [
           "the neural tangent kernel in high dimensions triple descent and a multi scale theory of generalization"
          ],
          [
           "bayesian workflow"
          ],
          [
           "intrinsic dimensionality explains the effectiveness of language model fine tuning"
          ],
          [
           "an introduction to johnson lindenstrauss transforms"
          ],
          [
           "a farewell to the bias variance tradeoff an overview of the theory of overparameterized machine learning"
          ],
          [
           "learning in high dimension always amounts to extrapolation"
          ],
          [
           "grokking generalization beyond overfitting on small algorithmic datasets"
          ],
          [
           "towards understanding grokking an effective theory of representation learning"
          ],
          [
           "a stochastic approximation method"
          ],
          [
           "the perceptron a probabilistic model for information storage and organization in the brain"
          ],
          [
           "reducing the dimensionality of data with neural networks"
          ],
          [
           "indexing by latent semantic analysis"
          ],
          [
           "multivariate adaptive regression splines"
          ],
          [
           "regression shrinkage and selection via the lasso"
          ],
          [
           "bias plus variance decomposition for zero one loss functions"
          ],
          [
           "latent dirichlet allocation"
          ],
          [
           "a new approach to linear filtering and prediction problems"
          ],
          [
           "understanding the difficulty of training deep feedforward neural networks"
          ],
          [
           "deep sparse rectifier neural networks"
          ],
          [
           "computational power of neural networks a characterization in terms of kolmogorov complexity"
          ],
          [
           "generalization in a linear perceptron in the presence of noise"
          ],
          [
           "nonlinear principal component analysis using autoassociative neural networks"
          ],
          [
           "stochastic neighbor embedding"
          ],
          [
           "visualizing data using t sne"
          ],
          [
           "locality preserving hashing"
          ],
          [
           "siamese neural networks for one shot image recognition"
          ]
         ],
         "hovertemplate": "labels=ml_general<br>x=%{x}<br>y=%{y}<br>z=%{z}<br>title=%{customdata[0]}<extra></extra>",
         "legendgroup": "ml_general",
         "marker": {
          "color": "#00cc96",
          "size": 3,
          "symbol": "circle"
         },
         "mode": "markers",
         "name": "ml_general",
         "scene": "scene",
         "showlegend": true,
         "type": "scatter3d",
         "x": [
          -38.22278780213593,
          -35.129052481514,
          -40.67596136762573,
          -67.00842898753524,
          -40.654144780733816,
          -14.343216645630342,
          -64.1760252866091,
          -14.74047233126324,
          -51.26950734529127,
          -33.312477291898475,
          -40.684773309078345,
          -28.18489347956415,
          -38.90133279559418,
          -34.110814321709846,
          -39.63975336215969,
          -45.25389403204923,
          -39.13161279259694,
          -65.23793691559489,
          -50.09313864283544,
          -61.55541732715923,
          -12.521310512596049,
          -30.145124531236068,
          -28.978193510714895,
          -49.045910416351425,
          -49.384497850075036,
          -56.397093716446136,
          -35.05607667886723,
          -39.420189371239765,
          -15.787102532117654,
          -28.869231191142593,
          -59.97858654010849,
          13.365343933132735,
          -2.7189773802457435,
          -55.81065654127332,
          -9.130168353904558,
          -51.71617287108307,
          -47.083233884335165,
          -65.76918597073197,
          -26.492380517606083,
          -52.08741662985741,
          -40.91219041847053,
          -60.54416607490617,
          -39.387862423142955,
          -35.729642674848456,
          -10.720308986027591,
          -54.34552837081441,
          -62.865308368447714,
          -36.546812676158595,
          -12.120837169835681,
          -46.61387031214597,
          -61.525691226013365,
          -40.42804003320941,
          -16.459894783299717,
          -62.07360935232056,
          -59.719900819959214,
          -14.212158341460997,
          -61.09913666481391,
          -58.61618414400902,
          25.76060018688625,
          -23.708046414504842,
          -33.8971264925465,
          -52.1745117773435,
          -13.700326937913715,
          -48.49786044085906,
          -60.913853097968094,
          23.719243103020705,
          -37.89666312388817,
          -33.503340185482315,
          -56.36083690314004,
          -37.307242979743485,
          -40.76195732665056,
          -63.365231491872294,
          -38.47947844472169,
          -44.04112824052287,
          -28.78950891610504,
          -65.02433089323286,
          -60.884364977063136,
          -37.351773007910246,
          -30.580251169958753,
          -57.27455297043612,
          -26.371200204205184,
          -27.471186147994647,
          -48.517855999048955,
          -36.31996144948698,
          -66.6790157239357,
          -46.85901646932533,
          -48.43391081172523,
          -62.69018325386972,
          -4.928724672090152
         ],
         "y": [
          1.543649162759449,
          -21.601333035104698,
          -17.934191302458693,
          -13.053374714860878,
          2.5759778103358464,
          -7.662024018494368,
          -18.524305051726518,
          17.286490686298215,
          -13.454938688643713,
          -8.703189667218766,
          -11.989657143612007,
          -10.95667126844295,
          -12.932672319652719,
          -8.789059623344885,
          -13.45526162913618,
          2.929753799648171,
          -17.109541798986097,
          -16.59032703164507,
          -2.236369548654112,
          -24.394720029310438,
          17.777794232330518,
          -20.368314366095653,
          -9.819634232886026,
          -14.49632700745629,
          -0.9117875026534003,
          -11.692192642823699,
          2.664471145890731,
          0.4449628028917233,
          17.78938797154945,
          -7.55211949348343,
          -2.781346897438205,
          -7.411451203108232,
          30.53474242325041,
          -12.429060693583738,
          30.321506793651665,
          -4.492558053047177,
          -8.736460645391706,
          -11.331101338313475,
          11.120347108815876,
          -5.4097413950395925,
          -16.914286658203245,
          -15.443747164216143,
          -8.773290686049426,
          1.2678129671224103,
          28.350455514806942,
          -13.217904070532876,
          -12.522278030399915,
          3.188144427906516,
          20.69793755773523,
          3.805255413289948,
          -22.562450459770712,
          -4.399163589363892,
          -12.953587822795214,
          -14.5954189685263,
          -1.9087518868181779,
          -11.450153779576677,
          -10.613742144733683,
          -1.6047148483352822,
          -14.051045587964458,
          -16.80760243263981,
          -2.509663273974265,
          -3.2786967016875597,
          15.856592744032437,
          3.495326026033594,
          -26.120602407600835,
          -16.560495753059676,
          -20.66710303106504,
          -4.4030845504177085,
          -9.594998179518951,
          1.3529863052484519,
          -10.96320552878996,
          -16.50808907056607,
          -18.176933493714944,
          -4.56349829828698,
          -21.336085361403285,
          -16.74914192919374,
          -22.00443193174006,
          1.395269595628534,
          -22.24615993517495,
          -12.473000442144206,
          11.302151050922777,
          10.916458390574553,
          -4.6327921406552655,
          0.5330856218573475,
          -15.180707995323445,
          -4.78353721777558,
          -4.648553778328385,
          -22.434623555563658,
          26.82351583348768
         ],
         "z": [
          2.861681835703187,
          -5.094190889571781,
          -5.460673733556203,
          2.0868784070870885,
          2.1783234087501264,
          -14.48033931926684,
          4.549143318677929,
          5.969845236928408,
          1.0627439694038923,
          -5.32419764063235,
          -5.6806992053553245,
          -6.134760647637644,
          -3.4402261541444052,
          -6.715824709680683,
          -1.9709564472556094,
          3.9398164390090833,
          1.5398350741869589,
          6.861760549929172,
          5.41082360288831,
          1.4457191240753304,
          4.9475118878929445,
          -5.571026975359307,
          -5.363964864334232,
          0.44822605141112426,
          4.948319730308343,
          0.3157802293430339,
          -6.034694949199885,
          -4.732277207343734,
          2.7241373033496643,
          -4.140765590116986,
          4.146518729596094,
          7.017669920644591,
          2.1928901897596824,
          2.150436257388045,
          1.6701574182423444,
          5.832848088853711,
          -6.953640220378322,
          3.994026252529406,
          -2.110138298017457,
          4.607543120368474,
          -6.399655750692718,
          3.890719927346465,
          -1.6937986967234704,
          2.162671234440704,
          1.7957855612044231,
          1.43758747827457,
          4.901746315737021,
          -4.494962710193456,
          4.8751064483856705,
          3.1334386096792453,
          -0.8128050717212638,
          -2.741179196120267,
          -12.294665212862792,
          4.717237696384096,
          5.56158342168674,
          -13.34919558285456,
          4.805878500652363,
          3.934890787142345,
          3.609753960815656,
          -9.401856613135678,
          -2.0944078904859276,
          10.702480247637585,
          6.653027581840692,
          3.6571703130094297,
          1.0446538204726608,
          3.0598967922756892,
          -4.558634077215187,
          -1.9292402043715757,
          3.860175756194778,
          -1.3848767436600204,
          -0.3338361733250237,
          6.219556893038873,
          0.8241154641797449,
          -3.1021543919728276,
          -6.626592973974948,
          3.162282207313616,
          1.4930251368524836,
          -3.5820153751016677,
          -6.2655672570118535,
          3.410731181359716,
          -0.3651564620249669,
          -3.50126649021451,
          8.5345662488188,
          -0.31485267620176643,
          2.1420692460093274,
          -3.651181261861973,
          -3.389951894037028,
          -0.16010588887606872,
          5.54717617901144
         ]
        },
        {
         "customdata": [
          [
           "mathematical discoveries from program search with large language models funsearch"
          ],
          [
           "neural word embedding as implicit matrix factorization"
          ],
          [
           "visual prompt tuning"
          ],
          [
           "generating sequences with recurrent neural networks"
          ],
          [
           "distributed representations of words and phrases and their compositionality"
          ],
          [
           "neural machine translation of rare words with subword units"
          ],
          [
           "google s neural machine translation system bridging the gap between human and machine translation"
          ],
          [
           "a structured self attentive sentence embedding"
          ],
          [
           "attention is all you need"
          ],
          [
           "universal language model fine tuning for text classification"
          ],
          [
           "bert pre training of deep bidirectional transformers for language understanding"
          ],
          [
           "language models are few shot learners"
          ],
          [
           "lora low rank adaptation of large language models"
          ],
          [
           "finetuned language models are zero shot learners"
          ],
          [
           "multitask prompted training enables zero shot task generalization"
          ],
          [
           "lambda language models for dialog applications"
          ],
          [
           "chain of thought prompting elicits reasoning in large language models"
          ],
          [
           "training language models to follow human instructions with human feedback"
          ],
          [
           "competition level code generation with alphacode"
          ],
          [
           "training compute optimal large language models"
          ],
          [
           "do as i can not as i say grounding language in robotic affordances"
          ],
          [
           "palm scaling language modeling with pathways"
          ],
          [
           "gpt neox 20b an open source autoregressive language model"
          ],
          [
           "beyond the imitation game quantifying and extrapolating the capabilities of language models"
          ],
          [
           "solving quantitative reasoning problems with language models"
          ],
          [
           "react synergizing reasoning and acting in language models"
          ],
          [
           "bloom a 176b parameter open access multilingual language model"
          ],
          [
           "large language models encode clinical knowledge"
          ],
          [
           "detectgpt zero shot machine generated text detection using probability curvature"
          ],
          [
           "toolformer language models can teach themselves to use tools"
          ],
          [
           "llama open and efficient foundation language models"
          ],
          [
           "visual chatgpt talking drawing and editing with visual foundation models"
          ],
          [
           "stabilizing transformer training by preventing attention entropy collapse"
          ],
          [
           "sparks of artificial general intelligence early experiments with gpt 4"
          ],
          [
           "bloomberggpt a large language model for finance"
          ],
          [
           "hugginggpt solving ai tasks with chatgpt and its friends in huggingface"
          ],
          [
           "instruction tuning with gpt 4"
          ],
          [
           "generative agents interactive simulacra of human behavior"
          ],
          [
           "visual instruction tuning"
          ],
          [
           "palm 2 technical report"
          ],
          [
           "tree of thoughts deliberate problem solving with large language models"
          ],
          [
           "lima less is more for alignment"
          ],
          [
           "qlora efficient finetuning of quantized llms"
          ],
          [
           "voyager an open ended embodied agent with large language models"
          ],
          [
           "the impact of positional encoding on length generalization in transformers"
          ],
          [
           "toolllm facilitating large language models to master 16000 real world apis"
          ],
          [
           "metagpt meta programming for multi agent collaborative framework"
          ],
          [
           "code llama open foundation models for code"
          ],
          [
           "rlaif scaling reinforcement learning from human feedback with ai feedback"
          ],
          [
           "large language models as optimizers"
          ],
          [
           "efficient streaming language models with attention sinks"
          ],
          [
           "eureka human level reward design via coding large language models"
          ],
          [
           "videopoet a large language model for zero shot video generation"
          ],
          [
           "recurrent neural network based language model"
          ],
          [
           "improving language understanding by generative pre training"
          ]
         ],
         "hovertemplate": "labels=dl_nlp<br>x=%{x}<br>y=%{y}<br>z=%{z}<br>title=%{customdata[0]}<extra></extra>",
         "legendgroup": "dl_nlp",
         "marker": {
          "color": "#ab63fa",
          "size": 3,
          "symbol": "circle"
         },
         "mode": "markers",
         "name": "dl_nlp",
         "scene": "scene",
         "showlegend": true,
         "type": "scatter3d",
         "x": [
          47.02341679444421,
          -29.381026473756833,
          28.18466394876323,
          -6.056494370190398,
          5.897161134834843,
          31.84468886841943,
          30.254183727470597,
          22.116403021798995,
          27.050212822512595,
          41.04573923699255,
          41.321517751711404,
          50.42003264612843,
          43.36670580070005,
          44.93476058829751,
          46.005334049093946,
          49.13394181263013,
          49.67298136546709,
          45.28021507613029,
          49.116750324924645,
          44.40158310820409,
          52.47265560015529,
          47.041779114057874,
          22.910813135879707,
          48.035351164693274,
          47.01597821614791,
          49.46406843940649,
          51.42275917027017,
          49.784020551091636,
          21.7199973181824,
          51.86545250367837,
          48.089095058088034,
          47.53487722835271,
          7.594648327038782,
          47.11084836667456,
          48.334209888473104,
          49.32999489877935,
          46.74821527597944,
          46.48791254271916,
          47.78386256971152,
          42.046653136715435,
          48.19955759049601,
          50.56610893971384,
          41.69137968560873,
          46.872566935325864,
          18.63103118771703,
          51.92692675268795,
          49.35077325236957,
          49.98520362703252,
          43.689351371362775,
          44.295666222638246,
          51.06794914674534,
          45.232982954761006,
          48.757846043165266,
          14.432466373662768,
          45.476016068331596
         ],
         "y": [
          -36.99822112509345,
          -17.9050266834606,
          -14.088020460690258,
          3.9008891786225703,
          -10.380427966614295,
          -4.76774589844885,
          -4.786385521523156,
          -12.8559420694804,
          3.792800499576968,
          -13.255243137693311,
          -3.0341745253328303,
          -4.1018855965253325,
          -11.06476762673588,
          -14.729381542214123,
          -6.197769874507185,
          -21.47400427873477,
          -32.85870419220002,
          -17.246578268309467,
          -34.72620474138806,
          -12.870867776319368,
          -18.289920962349967,
          -6.735221318656844,
          -17.435283450829154,
          -19.42529658361312,
          -26.921047300252464,
          -36.95229603193647,
          -23.287396438251335,
          -24.156678811555306,
          -15.850739740588951,
          -15.703135635253021,
          -22.159396879522763,
          8.269022617674867,
          -0.4926511048788982,
          -18.024504468577753,
          -7.9757081948465505,
          -16.93611472893272,
          -10.313140535140391,
          -35.53699300880868,
          5.713888930476747,
          -10.663782236850125,
          -28.1291993215034,
          -7.64149803869542,
          -11.736590967135882,
          -34.7100615620239,
          -15.060866053072546,
          -9.289454597321875,
          -36.83033142681292,
          -30.91161953858005,
          -35.095456359666606,
          -36.34874064229015,
          -16.570853216484387,
          -34.559728513655536,
          7.813923347048683,
          -5.516577411735648,
          -3.215538165683868
         ],
         "z": [
          -0.41411471314099935,
          -4.704320726518746,
          3.994721828935891,
          11.539207951225663,
          -1.1920178461299267,
          2.5737621757134734,
          3.890715999961701,
          0.9469947210987425,
          8.985646329560856,
          2.312184052461691,
          7.915615684195365,
          7.250820797599446,
          6.383182580204067,
          4.014677759626283,
          6.420930501311326,
          1.487307357894315,
          -2.0915840256015925,
          3.9965792820583004,
          -3.425650227688036,
          5.087569817971658,
          4.5801662090324005,
          3.388942616906095,
          2.169993735218978,
          3.4280485382034174,
          0.9808654654713912,
          -0.18712202646450768,
          0.5857487712139918,
          0.7669490356497044,
          0.5711432088212829,
          3.2502857769235933,
          -0.4254720665335674,
          5.014796230142195,
          10.330772670787177,
          4.443124398428316,
          4.576575214461623,
          6.028201656330838,
          5.200483776917757,
          -5.1827047018339565,
          4.092178799644264,
          3.3918554231100013,
          0.3295877415668925,
          5.182301566423463,
          7.855614656740841,
          -2.874724774455144,
          3.014913005981457,
          5.209467374921161,
          -2.1951446233999143,
          -1.966693413778527,
          -0.33639135113688096,
          0.910503146684331,
          1.6132268952380655,
          -1.14358244308489,
          0.4366248424280207,
          7.871050119069209,
          6.061649712682558
         ]
        },
        {
         "customdata": [
          [
           "deep neural networks for acoustic modeling in speech recognition the shared views of four research groups"
          ],
          [
           "context dependent pre trained deep neural networks for large vocabulary speech recognition"
          ],
          [
           "acoustic modeling using deep belief networks"
          ],
          [
           "wavlm large scale self supervised pre training for full stack speech processing"
          ],
          [
           "speech recognition with deep recurrent neural networks"
          ],
          [
           "end to end attention based large vocabulary speech recognition"
          ],
          [
           "deep speech 2 end to end speech recognition in english and mandarin"
          ],
          [
           "robust speech recognition via large scale weak supervision whisper"
          ],
          [
           "bigssl exploring the frontier of large scale semi supervised learning for asr"
          ],
          [
           "efficient training of audio transformers with patchout passt"
          ],
          [
           "speecht5 unified modal encoder decoder pre training for spoken language processing"
          ],
          [
           "mslam massively multilingual joint pre training for speech and text"
          ],
          [
           "add 2022 the first audio deep synthesis detection challenge"
          ],
          [
           "maestro matched speech text representations through modality matching"
          ],
          [
           "mulan a joint embedding of music audio and natural language"
          ],
          [
           "audiolm a language modeling approach to audio generation"
          ],
          [
           "audiogen textually guided audio generation"
          ],
          [
           "musiclm generating music from text"
          ],
          [
           "high fidelity neural audio compression encodec"
          ],
          [
           "neural codec language models are zero shot text to speech synthesizers vall e"
          ],
          [
           "audioldm text to audio generation with latent diffusion models"
          ],
          [
           "google usm scaling automatic speech recognition beyond 100 languages"
          ],
          [
           "scaling speech technology to 1000 languages mms"
          ],
          [
           "simple and controllable music generation musicgen"
          ],
          [
           "audiopalm a large language model that can speak and listen"
          ],
          [
           "voicebox text guided multilingual universal speech generation at scale"
          ]
         ],
         "hovertemplate": "labels=audio<br>x=%{x}<br>y=%{y}<br>z=%{z}<br>title=%{customdata[0]}<extra></extra>",
         "legendgroup": "audio",
         "marker": {
          "color": "#FFA15A",
          "size": 3,
          "symbol": "circle"
         },
         "mode": "markers",
         "name": "audio",
         "scene": "scene",
         "showlegend": true,
         "type": "scatter3d",
         "x": [
          6.390915448887009,
          23.68454563874375,
          7.210295584741643,
          40.65759592556495,
          16.544719411770476,
          24.38403535596256,
          6.132452209311985,
          42.403064891865014,
          38.99168611193675,
          27.840967983726422,
          46.16171914955071,
          47.41264940680881,
          5.448719527483503,
          35.32792650805317,
          28.79622039732436,
          30.592822648873977,
          11.897001565743679,
          6.679517678369369,
          -13.523427304495113,
          34.48313812055329,
          29.23033826643916,
          45.926939390581616,
          45.121251995529974,
          28.220919262497706,
          48.705511771154036,
          42.735056193512165
         ],
         "y": [
          -5.242118135109361,
          -12.683438008825599,
          -5.86177164501998,
          -6.8268670640411635,
          -2.8736543046534955,
          1.1145318627845833,
          -8.003859541948104,
          -5.90560008654892,
          -7.225705572878149,
          4.973863591493711,
          2.750885944582968,
          4.558482206478121,
          -8.389668139813468,
          -3.6584171531256344,
          -8.140007596167107,
          -7.092785652407507,
          -7.950696370446826,
          -12.668535833816314,
          -9.617854647405888,
          -4.466663889676388,
          -8.776151470438652,
          -3.927917287783202,
          -5.084217860203676,
          -6.44405638706832,
          -1.9577889860542985,
          -2.164888093860845
         ],
         "z": [
          6.729316285718516,
          2.3130043382285863,
          5.347270514769161,
          4.816162371896376,
          8.87432376919734,
          8.476800220884458,
          1.0774218578073593,
          6.262673274565729,
          5.837541646460367,
          8.925221653669224,
          1.4725466266835494,
          1.9758011187569833,
          -0.4742753919965345,
          0.2912320388744681,
          -7.666981921149356,
          -6.4116149460815555,
          -17.242076343102376,
          -2.194346375516126,
          -14.285366661517813,
          1.2665185636360612,
          -8.731840233873337,
          1.0011621156793284,
          0.07442206622687979,
          -7.0825290502919955,
          0.18835035598420505,
          0.8594158797980983
         ]
        },
        {
         "customdata": [
          [
           "gradientbased learning applied to document recognition"
          ],
          [
           "learning hierarchical features for scene labeling"
          ],
          [
           "3d convolutional neural networks for human action recognition"
          ],
          [
           "learning and transferring mid level image representations using convolutional neural networks"
          ],
          [
           "deepface closing the gap to human level performance in face verification"
          ],
          [
           "large scale video classification with convolutional neural networks"
          ],
          [
           "imagenet classification with deep convolutional neural networks"
          ],
          [
           "tensorf tensorial radiance fields"
          ],
          [
           "3d gaussian splatting for real time radiance field rendering"
          ],
          [
           "decaf a deep convolutional activation feature for generic visual recognition"
          ],
          [
           "rich feature hierarchies for accurate object detection and semantic segmentation"
          ],
          [
           "visualizing and understanding convolutional networks"
          ],
          [
           "network in network"
          ],
          [
           "overfeat integrated recognition localization and detection using convolutional networks"
          ],
          [
           "cnn features off the shelf an astounding baseline for recognition"
          ],
          [
           "return of the devil in the details delving deep into convolutional nets"
          ],
          [
           "two stream convolutional networks for action recognition in videos"
          ],
          [
           "spatial pyramid pooling in deep convolutional networks for visual recognition"
          ],
          [
           "very deep convolutional networks for large scale image recognition"
          ],
          [
           "going deeper with convolutions"
          ],
          [
           "fully convolutional networks for semantic segmentation"
          ],
          [
           "long term recurrent convolutional networks for visual recognition and description"
          ],
          [
           "show and tell a neural image caption generator"
          ],
          [
           "understanding deep image representations by inverting them"
          ],
          [
           "semantic image segmentation with deep convolutional nets and fully connected crfs"
          ],
          [
           "image super resolution using deep convolutional networks"
          ],
          [
           "show attend and tell neural image caption generation with visual attention"
          ],
          [
           "fast r cnn"
          ],
          [
           "faster r cnn towards real time object detection with region proposal networks"
          ],
          [
           "you only look once unified real time object detection"
          ],
          [
           "a neural algorithm of artistic style"
          ],
          [
           "rethinking the inception architecture for computer vision"
          ],
          [
           "deep residual learning for image recognition"
          ],
          [
           "inception v4 inception resnet and the impact of residual connections on learning"
          ],
          [
           "identity mappings in deep residual networks"
          ],
          [
           "feature pyramid networks for object detection"
          ],
          [
           "arbitrary style transfer in real time with adaptive instance normalization"
          ],
          [
           "mask r cnn"
          ],
          [
           "mobilenets efficient convolutional neural networks for mobile vision applications"
          ],
          [
           "squeeze and excitation networks"
          ],
          [
           "neural discrete representation learning"
          ],
          [
           "deep image prior"
          ],
          [
           "mobilenetv2 inverted residuals and linear bottlenecks"
          ],
          [
           "tracking emerges by colorizing videos"
          ],
          [
           "occupancy networks learning 3d reconstruction in function space"
          ],
          [
           "efficientnet rethinking model scaling for convolutional neural networks"
          ],
          [
           "patches are all you need convmixer"
          ],
          [
           "block nerf scalable large scene neural view synthesis"
          ],
          [
           "dino detr with improved denoising anchor boxes for end to end object detection"
          ],
          [
           "scaling up your kernels to 31 31 revisiting large kernel design in cnns"
          ],
          [
           "segment anything in medical images"
          ],
          [
           "neuralangelo high fidelity neural surface reconstruction"
          ],
          [
           "inceptionism going deeper into neural networks"
          ]
         ],
         "hovertemplate": "labels=cv_pattern<br>x=%{x}<br>y=%{y}<br>z=%{z}<br>title=%{customdata[0]}<extra></extra>",
         "legendgroup": "cv_pattern",
         "marker": {
          "color": "#19d3f3",
          "size": 3,
          "symbol": "circle"
         },
         "mode": "markers",
         "name": "cv_pattern",
         "scene": "scene",
         "showlegend": true,
         "type": "scatter3d",
         "x": [
          8.49851889330579,
          19.632713041570355,
          17.013493109102757,
          10.783538163923263,
          20.91162047364336,
          30.60688246505919,
          8.180258995577645,
          -9.086590164933801,
          -29.83742615374922,
          19.95910771684171,
          9.833135454382921,
          10.823249346517484,
          -4.701917269580248,
          17.014879852969027,
          13.592357721960033,
          10.196632485567205,
          16.471517252108683,
          8.784476574524414,
          7.995310432508133,
          1.8285487241966203,
          8.946568252952739,
          35.12800751798285,
          39.75361831041104,
          -2.815768007045931,
          -0.665235319961999,
          4.266827849322315,
          39.57577813150769,
          2.475558665855162,
          2.7818221522834716,
          -1.5924754078701993,
          -25.214908620737887,
          29.77588093300456,
          6.5598973283121245,
          8.817078234388912,
          -8.711673287885661,
          0.009405676817606557,
          -26.91607285636151,
          18.247930437641706,
          13.593596464498436,
          -6.551915392396213,
          -11.826298571987678,
          -6.693804406276955,
          15.953646731778223,
          -0.7970397028651899,
          -26.713511835000265,
          5.50872377346298,
          32.84960790168318,
          -10.126784210301576,
          -14.174121465507335,
          7.094464295846306,
          -5.47195377609605,
          -27.86570619095811,
          -3.267954658530941
         ],
         "y": [
          0.37404519342011394,
          40.62198355076749,
          38.522357089675715,
          41.85328057973299,
          37.32537050905346,
          35.15335334829622,
          39.71171987420929,
          -5.192694191918515,
          5.109028474555152,
          39.33437463452954,
          40.799259393132395,
          39.52066036072095,
          29.651260729200338,
          40.25783373909056,
          39.68981294087209,
          39.365071341913556,
          38.73443341411149,
          41.26053577703764,
          41.558822739773895,
          38.143987204710704,
          43.14466494850263,
          24.94665846214046,
          20.443905008714708,
          32.47294901495888,
          37.07970397709988,
          40.34483374900765,
          22.904333695470037,
          36.5070413900287,
          36.276270061849026,
          32.59602632424375,
          6.7385741404259045,
          36.51090890362339,
          36.620527928525675,
          37.849603815205384,
          28.986604513160326,
          33.69854981863984,
          7.542693025272339,
          39.89129598353179,
          38.01475576168781,
          31.528007565148727,
          -9.41464917563974,
          31.81909837905795,
          38.05075456889854,
          -8.089981010355022,
          9.948697469505165,
          38.42590580876254,
          31.97292633231552,
          -4.377501606592574,
          18.39799267483357,
          38.03556012494208,
          -6.709341752062865,
          5.987561896711992,
          28.678757115151708
         ],
         "z": [
          9.5639904694765,
          -7.089236114156432,
          3.1244747981025736,
          -3.486136683142971,
          -6.185768919192897,
          2.9804680806766526,
          -0.02348454954695029,
          -15.613054534624933,
          -10.026190397715933,
          -6.310429957533692,
          3.6073556215590985,
          -1.0024032914779122,
          3.1639388241936723,
          -3.098087743401399,
          3.478910953840827,
          0.9551360270838479,
          2.0500344209424246,
          1.4956480131207082,
          -1.5674905469496647,
          0.46037644078477247,
          -4.297681061600619,
          0.809721594238167,
          1.409143175572899,
          -2.5203590043272484,
          -0.08592678233255044,
          5.66562706291024,
          1.4396758766928262,
          3.42738660711247,
          4.657539243722368,
          5.356348989228654,
          -10.395275076392734,
          3.96691998699029,
          4.223084875640031,
          4.037795821962446,
          1.3024044995575599,
          5.166482491203591,
          -9.555521736932176,
          -3.957133272021496,
          -3.42838672068957,
          1.645476382956832,
          -15.15507251553206,
          -0.8434487585913969,
          -3.7924564274667807,
          -13.602319035079347,
          -5.467496346205983,
          -2.3023223548651255,
          0.7028410610996767,
          -15.618058987083133,
          3.646836972473551,
          -0.853051490588946,
          -14.343899804148881,
          -10.090963019432882,
          4.566905003813929
         ]
        },
        {
         "customdata": [
          [
           "swin unetr swin transformers for semantic segmentation of brain tumors in mri images"
          ],
          [
           "deep visual semantic alignments for generating image descriptions"
          ],
          [
           "vqa visual question answering"
          ],
          [
           "spatial transformer network"
          ],
          [
           "generating diverse high fidelity images with vq vae 2"
          ],
          [
           "denoising diffusion probabilistic models"
          ],
          [
           "an image is worth 16x16 words transformers for image recognition at scale"
          ],
          [
           "taming transformers for high resolution image synthesis"
          ],
          [
           "learning transferable visual models from natural language supervision"
          ],
          [
           "cmt convolutional neural networks meet vision transformers"
          ],
          [
           "high resolution image synthesis with latent diffusion models"
          ],
          [
           "a convnet for the 2020s"
          ],
          [
           "maxvit multi axis vision transformer"
          ],
          [
           "hierarchical text conditional image generation with clip latents dall e 2"
          ],
          [
           "better plain vit baselines for imagenet 1k"
          ],
          [
           "photorealistic text to image diffusion models with deep language understanding imagen"
          ],
          [
           "git a generative image to text transformer for vision and language"
          ],
          [
           "classifier free diffusion guidance"
          ],
          [
           "multi concept customization of text to image diffusion custom diffusion"
          ],
          [
           "dreambooth fine tuning text to image diffusion models for subject driven generation"
          ],
          [
           "make a video text to video generation without text video data"
          ],
          [
           "dreamfusion text to 3d using 2d diffusion"
          ],
          [
           "scalable diffusion models with transformers dit"
          ],
          [
           "on distillation of guided diffusion models"
          ],
          [
           "laion 5b an open large scale dataset for training next generation image text models"
          ],
          [
           "imagic text based real image editing with diffusion models"
          ],
          [
           "diffusiondet diffusion model for object detection"
          ],
          [
           "instructpix2pix learning to follow image editing instructions"
          ],
          [
           "magic3d high resolution text to 3d content creation"
          ],
          [
           "muse text to image generation via masked generative transformers"
          ],
          [
           "structure and content guided video synthesis with diffusion models gen 1"
          ],
          [
           "scaling vision transformers to 22 billion parameters"
          ],
          [
           "adding conditional control to text to image diffusion models controlnet"
          ],
          [
           "scaling up gans for text to image synthesis gigagan"
          ],
          [
           "dinov2 learning robust visual features without supervision"
          ],
          [
           "synthetic data from diffusion models improves imagenet classification"
          ],
          [
           "align your latents high resolution video synthesis with latent diffusion models"
          ],
          [
           "vision transformers need registers"
          ],
          [
           "drag your gan interactive point based manipulation on the generative image manifold"
          ],
          [
           "sdxl improving latent diffusion models for high resolution image synthesis"
          ],
          [
           "qwen vl a versatile vision language model for understanding localization and generation"
          ],
          [
           "mvdream multi view diffusion for 3d generation"
          ],
          [
           "florence 2 advancing a unified representation for a variety of vision tasks"
          ]
         ],
         "hovertemplate": "labels=cv_generative<br>x=%{x}<br>y=%{y}<br>z=%{z}<br>title=%{customdata[0]}<extra></extra>",
         "legendgroup": "cv_generative",
         "marker": {
          "color": "#FF6692",
          "size": 3,
          "symbol": "circle"
         },
         "mode": "markers",
         "name": "cv_generative",
         "scene": "scene",
         "showlegend": true,
         "type": "scatter3d",
         "x": [
          22.366829973442744,
          37.986071305430805,
          13.932203603393475,
          20.57790345697641,
          -6.8001001649210275,
          -43.71058918421694,
          43.41804550507084,
          21.53064953262758,
          42.648484879715944,
          32.72163776450832,
          -10.003258384136432,
          31.788166428500762,
          30.97538728453075,
          9.511279249336862,
          28.90657817735214,
          40.80685837073768,
          49.92832747526232,
          -42.52794439628105,
          3.269146037451207,
          7.213799803911062,
          40.38983994277606,
          0.4226196633962955,
          22.794457973957993,
          -5.196730958753498,
          44.69035502301531,
          6.5203931835587685,
          -32.44299609889715,
          7.4320590928128505,
          2.5270414648570925,
          45.320351974825606,
          4.677207583409232,
          45.54083824148123,
          -1.4563450245198664,
          0.9817328487831043,
          42.67170387907062,
          7.615648423016715,
          6.271054589219256,
          40.85816793803704,
          -25.132998599702976,
          0.08732531935685764,
          49.134155186358576,
          -1.1523789690481918,
          43.71834628099791
         ],
         "y": [
          31.776904781883413,
          22.203669764669254,
          -8.27779003453187,
          32.408587938224386,
          -7.1767692011509,
          -8.983435212892221,
          25.177743473475232,
          33.07271624286599,
          18.93333465667746,
          33.15093923329466,
          -7.935063432068631,
          34.01466623328392,
          32.04639265621092,
          -7.34906238843655,
          33.6553718328566,
          15.704661786560694,
          10.537682139943165,
          -10.272163287491724,
          -6.650066601484378,
          -6.690660360024689,
          18.0803228375226,
          -5.816129082401887,
          34.84260635787995,
          -6.917216541029388,
          13.539386969101852,
          -4.16030942259944,
          4.016712360176294,
          -6.525972347290919,
          -7.641987649301399,
          11.132616099306592,
          -5.327273671280627,
          13.403228693739617,
          32.449779594139976,
          -7.6299668671619045,
          18.120443990667937,
          -2.348978346611113,
          -8.209095802870273,
          25.087715406018685,
          4.393713638843628,
          -7.722011547370174,
          9.239927295165998,
          -4.6811267361261635,
          16.209404523362362
         ],
         "z": [
          -2.402673097491907,
          1.1623942382830996,
          -16.392052121393107,
          -1.8162765231701703,
          -20.0439783757892,
          -8.245246078021676,
          1.6066462613907102,
          -3.0334346998235584,
          2.8334238173675317,
          1.9100791699317043,
          -16.295172147972202,
          0.3358440941620978,
          -1.0343702377797828,
          -18.501612736069053,
          -1.9026742351388362,
          0.2679585606962431,
          1.0279891516859718,
          -7.6867429379812435,
          -17.47079046203752,
          -18.653084630221667,
          0.9901105025189599,
          -19.570371069485894,
          -4.442849755128868,
          -20.722153833427733,
          2.4962610640617027,
          -20.837516727985495,
          -9.100909547193307,
          -20.5961974681362,
          -19.110647172979768,
          1.3741230104831559,
          -19.684262031230737,
          4.106250557113365,
          -3.5268622685440865,
          -15.432605919054785,
          4.112861213869542,
          -21.816718229849425,
          -17.79902662450673,
          1.5297964063128642,
          -11.96896757469605,
          -19.994595497907678,
          2.9639782748686585,
          -19.579610110886584,
          3.0907000949343555
         ]
        }
       ],
       "layout": {
        "legend": {
         "title": {
          "text": "labels"
         },
         "tracegroupgap": 0
        },
        "margin": {
         "t": 60
        },
        "scene": {
         "aspectmode": "data",
         "camera": {
          "center": {
           "x": 0,
           "y": 0,
           "z": 0
          },
          "eye": {
           "x": 0.7,
           "y": 0.7,
           "z": 0.7
          }
         },
         "domain": {
          "x": [
           0,
           1
          ],
          "y": [
           0,
           1
          ]
         },
         "xaxis": {
          "title": {
           "text": "1"
          }
         },
         "yaxis": {
          "title": {
           "text": "2"
          }
         },
         "zaxis": {
          "title": {
           "text": "3"
          }
         }
        },
        "template": {
         "data": {
          "bar": [
           {
            "error_x": {
             "color": "#2a3f5f"
            },
            "error_y": {
             "color": "#2a3f5f"
            },
            "marker": {
             "line": {
              "color": "#E5ECF6",
              "width": 0.5
             },
             "pattern": {
              "fillmode": "overlay",
              "size": 10,
              "solidity": 0.2
             }
            },
            "type": "bar"
           }
          ],
          "barpolar": [
           {
            "marker": {
             "line": {
              "color": "#E5ECF6",
              "width": 0.5
             },
             "pattern": {
              "fillmode": "overlay",
              "size": 10,
              "solidity": 0.2
             }
            },
            "type": "barpolar"
           }
          ],
          "carpet": [
           {
            "aaxis": {
             "endlinecolor": "#2a3f5f",
             "gridcolor": "white",
             "linecolor": "white",
             "minorgridcolor": "white",
             "startlinecolor": "#2a3f5f"
            },
            "baxis": {
             "endlinecolor": "#2a3f5f",
             "gridcolor": "white",
             "linecolor": "white",
             "minorgridcolor": "white",
             "startlinecolor": "#2a3f5f"
            },
            "type": "carpet"
           }
          ],
          "choropleth": [
           {
            "colorbar": {
             "outlinewidth": 0,
             "ticks": ""
            },
            "type": "choropleth"
           }
          ],
          "contour": [
           {
            "colorbar": {
             "outlinewidth": 0,
             "ticks": ""
            },
            "colorscale": [
             [
              0,
              "#0d0887"
             ],
             [
              0.1111111111111111,
              "#46039f"
             ],
             [
              0.2222222222222222,
              "#7201a8"
             ],
             [
              0.3333333333333333,
              "#9c179e"
             ],
             [
              0.4444444444444444,
              "#bd3786"
             ],
             [
              0.5555555555555556,
              "#d8576b"
             ],
             [
              0.6666666666666666,
              "#ed7953"
             ],
             [
              0.7777777777777778,
              "#fb9f3a"
             ],
             [
              0.8888888888888888,
              "#fdca26"
             ],
             [
              1,
              "#f0f921"
             ]
            ],
            "type": "contour"
           }
          ],
          "contourcarpet": [
           {
            "colorbar": {
             "outlinewidth": 0,
             "ticks": ""
            },
            "type": "contourcarpet"
           }
          ],
          "heatmap": [
           {
            "colorbar": {
             "outlinewidth": 0,
             "ticks": ""
            },
            "colorscale": [
             [
              0,
              "#0d0887"
             ],
             [
              0.1111111111111111,
              "#46039f"
             ],
             [
              0.2222222222222222,
              "#7201a8"
             ],
             [
              0.3333333333333333,
              "#9c179e"
             ],
             [
              0.4444444444444444,
              "#bd3786"
             ],
             [
              0.5555555555555556,
              "#d8576b"
             ],
             [
              0.6666666666666666,
              "#ed7953"
             ],
             [
              0.7777777777777778,
              "#fb9f3a"
             ],
             [
              0.8888888888888888,
              "#fdca26"
             ],
             [
              1,
              "#f0f921"
             ]
            ],
            "type": "heatmap"
           }
          ],
          "histogram": [
           {
            "marker": {
             "pattern": {
              "fillmode": "overlay",
              "size": 10,
              "solidity": 0.2
             }
            },
            "type": "histogram"
           }
          ],
          "histogram2d": [
           {
            "colorbar": {
             "outlinewidth": 0,
             "ticks": ""
            },
            "colorscale": [
             [
              0,
              "#0d0887"
             ],
             [
              0.1111111111111111,
              "#46039f"
             ],
             [
              0.2222222222222222,
              "#7201a8"
             ],
             [
              0.3333333333333333,
              "#9c179e"
             ],
             [
              0.4444444444444444,
              "#bd3786"
             ],
             [
              0.5555555555555556,
              "#d8576b"
             ],
             [
              0.6666666666666666,
              "#ed7953"
             ],
             [
              0.7777777777777778,
              "#fb9f3a"
             ],
             [
              0.8888888888888888,
              "#fdca26"
             ],
             [
              1,
              "#f0f921"
             ]
            ],
            "type": "histogram2d"
           }
          ],
          "histogram2dcontour": [
           {
            "colorbar": {
             "outlinewidth": 0,
             "ticks": ""
            },
            "colorscale": [
             [
              0,
              "#0d0887"
             ],
             [
              0.1111111111111111,
              "#46039f"
             ],
             [
              0.2222222222222222,
              "#7201a8"
             ],
             [
              0.3333333333333333,
              "#9c179e"
             ],
             [
              0.4444444444444444,
              "#bd3786"
             ],
             [
              0.5555555555555556,
              "#d8576b"
             ],
             [
              0.6666666666666666,
              "#ed7953"
             ],
             [
              0.7777777777777778,
              "#fb9f3a"
             ],
             [
              0.8888888888888888,
              "#fdca26"
             ],
             [
              1,
              "#f0f921"
             ]
            ],
            "type": "histogram2dcontour"
           }
          ],
          "mesh3d": [
           {
            "colorbar": {
             "outlinewidth": 0,
             "ticks": ""
            },
            "type": "mesh3d"
           }
          ],
          "parcoords": [
           {
            "line": {
             "colorbar": {
              "outlinewidth": 0,
              "ticks": ""
             }
            },
            "type": "parcoords"
           }
          ],
          "pie": [
           {
            "automargin": true,
            "type": "pie"
           }
          ],
          "scatter": [
           {
            "fillpattern": {
             "fillmode": "overlay",
             "size": 10,
             "solidity": 0.2
            },
            "type": "scatter"
           }
          ],
          "scatter3d": [
           {
            "line": {
             "colorbar": {
              "outlinewidth": 0,
              "ticks": ""
             }
            },
            "marker": {
             "colorbar": {
              "outlinewidth": 0,
              "ticks": ""
             }
            },
            "type": "scatter3d"
           }
          ],
          "scattercarpet": [
           {
            "marker": {
             "colorbar": {
              "outlinewidth": 0,
              "ticks": ""
             }
            },
            "type": "scattercarpet"
           }
          ],
          "scattergeo": [
           {
            "marker": {
             "colorbar": {
              "outlinewidth": 0,
              "ticks": ""
             }
            },
            "type": "scattergeo"
           }
          ],
          "scattergl": [
           {
            "marker": {
             "colorbar": {
              "outlinewidth": 0,
              "ticks": ""
             }
            },
            "type": "scattergl"
           }
          ],
          "scattermap": [
           {
            "marker": {
             "colorbar": {
              "outlinewidth": 0,
              "ticks": ""
             }
            },
            "type": "scattermap"
           }
          ],
          "scattermapbox": [
           {
            "marker": {
             "colorbar": {
              "outlinewidth": 0,
              "ticks": ""
             }
            },
            "type": "scattermapbox"
           }
          ],
          "scatterpolar": [
           {
            "marker": {
             "colorbar": {
              "outlinewidth": 0,
              "ticks": ""
             }
            },
            "type": "scatterpolar"
           }
          ],
          "scatterpolargl": [
           {
            "marker": {
             "colorbar": {
              "outlinewidth": 0,
              "ticks": ""
             }
            },
            "type": "scatterpolargl"
           }
          ],
          "scatterternary": [
           {
            "marker": {
             "colorbar": {
              "outlinewidth": 0,
              "ticks": ""
             }
            },
            "type": "scatterternary"
           }
          ],
          "surface": [
           {
            "colorbar": {
             "outlinewidth": 0,
             "ticks": ""
            },
            "colorscale": [
             [
              0,
              "#0d0887"
             ],
             [
              0.1111111111111111,
              "#46039f"
             ],
             [
              0.2222222222222222,
              "#7201a8"
             ],
             [
              0.3333333333333333,
              "#9c179e"
             ],
             [
              0.4444444444444444,
              "#bd3786"
             ],
             [
              0.5555555555555556,
              "#d8576b"
             ],
             [
              0.6666666666666666,
              "#ed7953"
             ],
             [
              0.7777777777777778,
              "#fb9f3a"
             ],
             [
              0.8888888888888888,
              "#fdca26"
             ],
             [
              1,
              "#f0f921"
             ]
            ],
            "type": "surface"
           }
          ],
          "table": [
           {
            "cells": {
             "fill": {
              "color": "#EBF0F8"
             },
             "line": {
              "color": "white"
             }
            },
            "header": {
             "fill": {
              "color": "#C8D4E3"
             },
             "line": {
              "color": "white"
             }
            },
            "type": "table"
           }
          ]
         },
         "layout": {
          "annotationdefaults": {
           "arrowcolor": "#2a3f5f",
           "arrowhead": 0,
           "arrowwidth": 1
          },
          "autotypenumbers": "strict",
          "coloraxis": {
           "colorbar": {
            "outlinewidth": 0,
            "ticks": ""
           }
          },
          "colorscale": {
           "diverging": [
            [
             0,
             "#8e0152"
            ],
            [
             0.1,
             "#c51b7d"
            ],
            [
             0.2,
             "#de77ae"
            ],
            [
             0.3,
             "#f1b6da"
            ],
            [
             0.4,
             "#fde0ef"
            ],
            [
             0.5,
             "#f7f7f7"
            ],
            [
             0.6,
             "#e6f5d0"
            ],
            [
             0.7,
             "#b8e186"
            ],
            [
             0.8,
             "#7fbc41"
            ],
            [
             0.9,
             "#4d9221"
            ],
            [
             1,
             "#276419"
            ]
           ],
           "sequential": [
            [
             0,
             "#0d0887"
            ],
            [
             0.1111111111111111,
             "#46039f"
            ],
            [
             0.2222222222222222,
             "#7201a8"
            ],
            [
             0.3333333333333333,
             "#9c179e"
            ],
            [
             0.4444444444444444,
             "#bd3786"
            ],
            [
             0.5555555555555556,
             "#d8576b"
            ],
            [
             0.6666666666666666,
             "#ed7953"
            ],
            [
             0.7777777777777778,
             "#fb9f3a"
            ],
            [
             0.8888888888888888,
             "#fdca26"
            ],
            [
             1,
             "#f0f921"
            ]
           ],
           "sequentialminus": [
            [
             0,
             "#0d0887"
            ],
            [
             0.1111111111111111,
             "#46039f"
            ],
            [
             0.2222222222222222,
             "#7201a8"
            ],
            [
             0.3333333333333333,
             "#9c179e"
            ],
            [
             0.4444444444444444,
             "#bd3786"
            ],
            [
             0.5555555555555556,
             "#d8576b"
            ],
            [
             0.6666666666666666,
             "#ed7953"
            ],
            [
             0.7777777777777778,
             "#fb9f3a"
            ],
            [
             0.8888888888888888,
             "#fdca26"
            ],
            [
             1,
             "#f0f921"
            ]
           ]
          },
          "colorway": [
           "#636efa",
           "#EF553B",
           "#00cc96",
           "#ab63fa",
           "#FFA15A",
           "#19d3f3",
           "#FF6692",
           "#B6E880",
           "#FF97FF",
           "#FECB52"
          ],
          "font": {
           "color": "#2a3f5f"
          },
          "geo": {
           "bgcolor": "white",
           "lakecolor": "white",
           "landcolor": "#E5ECF6",
           "showlakes": true,
           "showland": true,
           "subunitcolor": "white"
          },
          "hoverlabel": {
           "align": "left"
          },
          "hovermode": "closest",
          "mapbox": {
           "style": "light"
          },
          "paper_bgcolor": "white",
          "plot_bgcolor": "#E5ECF6",
          "polar": {
           "angularaxis": {
            "gridcolor": "white",
            "linecolor": "white",
            "ticks": ""
           },
           "bgcolor": "#E5ECF6",
           "radialaxis": {
            "gridcolor": "white",
            "linecolor": "white",
            "ticks": ""
           }
          },
          "scene": {
           "xaxis": {
            "backgroundcolor": "#E5ECF6",
            "gridcolor": "white",
            "gridwidth": 2,
            "linecolor": "white",
            "showbackground": true,
            "ticks": "",
            "zerolinecolor": "white"
           },
           "yaxis": {
            "backgroundcolor": "#E5ECF6",
            "gridcolor": "white",
            "gridwidth": 2,
            "linecolor": "white",
            "showbackground": true,
            "ticks": "",
            "zerolinecolor": "white"
           },
           "zaxis": {
            "backgroundcolor": "#E5ECF6",
            "gridcolor": "white",
            "gridwidth": 2,
            "linecolor": "white",
            "showbackground": true,
            "ticks": "",
            "zerolinecolor": "white"
           }
          },
          "shapedefaults": {
           "line": {
            "color": "#2a3f5f"
           }
          },
          "ternary": {
           "aaxis": {
            "gridcolor": "white",
            "linecolor": "white",
            "ticks": ""
           },
           "baxis": {
            "gridcolor": "white",
            "linecolor": "white",
            "ticks": ""
           },
           "bgcolor": "#E5ECF6",
           "caxis": {
            "gridcolor": "white",
            "linecolor": "white",
            "ticks": ""
           }
          },
          "title": {
           "x": 0.05
          },
          "xaxis": {
           "automargin": true,
           "gridcolor": "white",
           "linecolor": "white",
           "ticks": "",
           "title": {
            "standoff": 15
           },
           "zerolinecolor": "white",
           "zerolinewidth": 2
          },
          "yaxis": {
           "automargin": true,
           "gridcolor": "white",
           "linecolor": "white",
           "ticks": "",
           "title": {
            "standoff": 15
           },
           "zerolinecolor": "white",
           "zerolinewidth": 2
          }
         }
        }
       }
      }
     },
     "metadata": {},
     "output_type": "display_data"
    }
   ],
   "source": [
    "from openTSNE.sklearn import TSNE\n",
    "import plotly.express as px\n",
    "\n",
    "tsne_latent = TSNE(n_components=3,random_state=42, perplexity=10, n_iter=2000, learning_rate=50).fit_transform(rbm_latent_space_final)\n",
    "plot_3d(tsne_latent, jasper_metadata[['category']], jasper_metadata[['title']])"
   ]
  },
  {
   "cell_type": "code",
   "execution_count": 19,
   "id": "abd96986",
   "metadata": {},
   "outputs": [
    {
     "name": "stdout",
     "output_type": "stream",
     "text": [
      "shape of gmm_predictions: (320, 1)\n",
      "shape of latent_space: (320, 50)\n"
     ]
    },
    {
     "data": {
      "application/vnd.plotly.v1+json": {
       "config": {
        "plotlyServerURL": "https://plot.ly"
       },
       "data": [
        {
         "customdata": [
          [
           "human level control through deep reinforcement learning"
          ],
          [
           "outracing champion gran turismo drivers with deep reinforcement learning sophy"
          ],
          [
           "discovering faster matrix multiplication algorithms with reinforcement learning alphatensor"
          ],
          [
           "faster sorting algorithms discovered using deep reinforcement learning alphadev"
          ],
          [
           "hybrid computing using a neural network with dynamic external memory"
          ],
          [
           "highly accurate protein structure prediction with alphafold"
          ],
          [
           "learning complex extended sequences using the principle of history compression"
          ],
          [
           "induction of decision trees"
          ],
          [
           "feature hashing for large scale multitask learning"
          ],
          [
           "on discriminative vs generative classifiers a comparison of logistic regression and naive bayes"
          ],
          [
           "neural word embedding as implicit matrix factorization"
          ],
          [
           "learning to predict by the methods of temporal differences"
          ],
          [
           "learning the long term structure of the blues"
          ],
          [
           "the strength of weak learnability"
          ],
          [
           "bagging predictors"
          ],
          [
           "improved boosting algorithms using confidence rated predictions"
          ],
          [
           "random forests"
          ],
          [
           "self organized formation of topologically correct feature maps"
          ],
          [
           "document clustering based on non negative matrix factorization"
          ],
          [
           "learnability and the vapnik chervonenkis dimension"
          ],
          [
           "a decision theoretic generalization of on line learning and an application to boosting"
          ],
          [
           "hogwild a lock free approach to parallelizing stochastic gradient descent"
          ],
          [
           "playing atari with deep reinforcement learning"
          ],
          [
           "auto encoding variational bayes"
          ],
          [
           "xgboost a scalable tree boosting system"
          ],
          [
           "gaussian error linear units gelus"
          ],
          [
           "the lottery ticket hypothesis finding sparse trainable neural networks"
          ],
          [
           "relational inductive biases deep learning and graph networks"
          ],
          [
           "recurrent neural networks for time series forecasting"
          ],
          [
           "on the measure of intelligence"
          ],
          [
           "an introduction to johnson lindenstrauss transforms"
          ],
          [
           "a farewell to the bias variance tradeoff an overview of the theory of overparameterized machine learning"
          ],
          [
           "towards understanding grokking an effective theory of representation learning"
          ],
          [
           "classifier free diffusion guidance"
          ],
          [
           "mastering diverse domains through world models dreamerv3"
          ],
          [
           "efficient online reinforcement learning with offline data rlpd"
          ],
          [
           "the perceptron a probabilistic model for information storage and organization in the brain"
          ],
          [
           "learning from delayed rewards"
          ],
          [
           "a local learning algorithm for dynamic feedforward and recurrent networks"
          ],
          [
           "indexing by latent semantic analysis"
          ],
          [
           "latent dirichlet allocation"
          ]
         ],
         "hovertemplate": "labels=2.0<br>x=%{x}<br>y=%{y}<br>z=%{z}<br>title=%{customdata[0]}<extra></extra>",
         "legendgroup": "2.0",
         "marker": {
          "color": "#636efa",
          "size": 3,
          "symbol": "circle"
         },
         "mode": "markers",
         "name": "2.0",
         "scene": "scene",
         "showlegend": true,
         "type": "scatter3d",
         "x": [
          -44.561700184919054,
          -45.62596752268541,
          -23.23985987847736,
          -24.35478354235673,
          -38.1206398413789,
          -35.129052481514,
          -14.18164033372219,
          -40.67596136762573,
          -33.312477291898475,
          -40.684773309078345,
          -29.381026473756833,
          -41.46146285872166,
          -8.50191724352031,
          -28.18489347956415,
          -38.90133279559418,
          -34.110814321709846,
          -39.63975336215969,
          -39.13161279259694,
          -30.145124531236068,
          -28.978193510714895,
          -49.045910416351425,
          -39.420189371239765,
          -17.241457603235318,
          -28.869231191142593,
          -40.91219041847053,
          -39.387862423142955,
          -40.42804003320941,
          -16.459894783299717,
          -16.129053147713392,
          -23.708046414504842,
          -37.89666312388817,
          -33.503340185482315,
          -40.76195732665056,
          -42.52794439628105,
          -20.19178196604682,
          -55.17886391557909,
          -38.47947844472169,
          -46.43549511977629,
          -38.41298946758817,
          -28.78950891610504,
          -30.580251169958753
         ],
         "y": [
          -20.65376483114516,
          -21.53705717284321,
          -19.411200151296377,
          -20.4523939655814,
          -11.573574471946785,
          -21.601333035104698,
          1.9515076018874904,
          -17.934191302458693,
          -8.703189667218766,
          -11.989657143612007,
          -17.9050266834606,
          -13.003470569545856,
          -2.9056318636022453,
          -10.95667126844295,
          -12.932672319652719,
          -8.789059623344885,
          -13.45526162913618,
          -17.109541798986097,
          -20.368314366095653,
          -9.819634232886026,
          -14.49632700745629,
          0.4449628028917233,
          -14.315016592783609,
          -7.55211949348343,
          -16.914286658203245,
          -8.773290686049426,
          -4.399163589363892,
          -12.953587822795214,
          1.1781536539787858,
          -16.80760243263981,
          -20.66710303106504,
          -4.4030845504177085,
          -10.96320552878996,
          -10.272163287491724,
          -18.717593792889655,
          -20.941644443887643,
          -18.176933493714944,
          -19.439197413455272,
          -9.837179494580191,
          -21.336085361403285,
          -22.24615993517495
         ],
         "z": [
          0.2684478319482307,
          0.7473744438726201,
          -9.630728631489832,
          -9.907675158453594,
          3.300237093061275,
          -5.094190889571781,
          11.925947653938685,
          -5.460673733556203,
          -5.32419764063235,
          -5.6806992053553245,
          -4.704320726518746,
          -0.16780073547939078,
          12.316391458942888,
          -6.134760647637644,
          -3.4402261541444052,
          -6.715824709680683,
          -1.9709564472556094,
          1.5398350741869589,
          -5.571026975359307,
          -5.363964864334232,
          0.44822605141112426,
          -4.732277207343734,
          -11.70340000234517,
          -4.140765590116986,
          -6.399655750692718,
          -1.6937986967234704,
          -2.741179196120267,
          -12.294665212862792,
          12.228832875139814,
          -9.401856613135678,
          -4.558634077215187,
          -1.9292402043715757,
          -0.3338361733250237,
          -7.6867429379812435,
          -10.35022042516979,
          1.3731920567514635,
          0.8241154641797449,
          0.5346057233504947,
          2.7851285854319627,
          -6.626592973974948,
          -6.2655672570118535
         ]
        },
        {
         "customdata": [
          [
           "magnetic control of tokamak plasmas through deep reinforcement learning"
          ],
          [
           "nearest neighbor pattern classification"
          ],
          [
           "no free lunch theorems for optimization"
          ],
          [
           "random search for hyper parameter optimization"
          ],
          [
           "bootstrap methods another look at the jackknife"
          ],
          [
           "recurrent networks and narma modeling"
          ],
          [
           "multilayer feedforward networks with a nonpolynomial activation function can approximate any function"
          ],
          [
           "hybrid monte carlo"
          ],
          [
           "multilayer feedforward networks are universal approximators"
          ],
          [
           "gaussian process optimization in the bandit setting no regret and experimental design"
          ],
          [
           "identifying and attacking the saddle point problem in high dimensional non convex optimization"
          ],
          [
           "adam a method for stochastic optimization"
          ],
          [
           "deep learning and the information bottleneck principle"
          ],
          [
           "deep unsupervised learning using nonequilibrium thermodynamics"
          ],
          [
           "optimizing neural networks with kronecker factored approximate curvature"
          ],
          [
           "dropout as a bayesian approximation representing model uncertainty in deep learning"
          ],
          [
           "hyperband a novel bandit based approach to hyperparameter optimization"
          ],
          [
           "on the properties of the softmax function with application in game theory and reinforcement learning"
          ],
          [
           "stochastic gradient descent as approximate bayesian inference"
          ],
          [
           "proximal policy optimization algorithms"
          ],
          [
           "a multi horizon quantile recurrent forecaster"
          ],
          [
           "umap uniform manifold approximation and projection for dimension reduction"
          ],
          [
           "on the covariance hessian relation in evolution strategies"
          ],
          [
           "neural tangent kernel convergence and generalization in neural networks"
          ],
          [
           "reconciling modern machine learning practice and the classical bias variance trade off"
          ],
          [
           "the generalization error of random features regression precise asymptotics and double descent curve"
          ],
          [
           "implicit neural representations with periodic activation functions"
          ],
          [
           "denoising diffusion probabilistic models"
          ],
          [
           "the neural tangent kernel in high dimensions triple descent and a multi scale theory of generalization"
          ],
          [
           "bayesian workflow"
          ],
          [
           "forecasting cpi inflation components with hierarchical recurrent neural networks"
          ],
          [
           "learning in high dimension always amounts to extrapolation"
          ],
          [
           "a stochastic approximation method"
          ],
          [
           "multivariate adaptive regression splines"
          ],
          [
           "regression shrinkage and selection via the lasso"
          ],
          [
           "a new approach to linear filtering and prediction problems"
          ],
          [
           "computational power of neural networks a characterization in terms of kolmogorov complexity"
          ],
          [
           "nonlinear principal component analysis using autoassociative neural networks"
          ],
          [
           "stochastic neighbor embedding"
          ],
          [
           "visualizing data using t sne"
          ],
          [
           "locality preserving hashing"
          ]
         ],
         "hovertemplate": "labels=9.0<br>x=%{x}<br>y=%{y}<br>z=%{z}<br>title=%{customdata[0]}<extra></extra>",
         "legendgroup": "9.0",
         "marker": {
          "color": "#EF553B",
          "size": 3,
          "symbol": "circle"
         },
         "mode": "markers",
         "name": "9.0",
         "scene": "scene",
         "showlegend": true,
         "type": "scatter3d",
         "x": [
          -47.3946563337883,
          -67.00842898753524,
          -64.1760252866091,
          -51.26950734529127,
          -65.23793691559489,
          -48.63861139344816,
          -50.09313864283544,
          -61.55541732715923,
          -49.384497850075036,
          -56.397093716446136,
          -59.97858654010849,
          -55.81065654127332,
          -51.71617287108307,
          -47.083233884335165,
          -65.76918597073197,
          -52.08741662985741,
          -60.54416607490617,
          -54.34552837081441,
          -62.865308368447714,
          -56.131129319928846,
          -43.86735762953186,
          -61.525691226013365,
          -62.07360935232056,
          -59.719900819959214,
          -61.09913666481391,
          -58.61618414400902,
          -52.1745117773435,
          -43.71058918421694,
          -48.49786044085906,
          -60.913853097968094,
          -51.22384611641554,
          -56.36083690314004,
          -63.365231491872294,
          -65.02433089323286,
          -60.884364977063136,
          -57.27455297043612,
          -48.517855999048955,
          -66.6790157239357,
          -46.85901646932533,
          -48.43391081172523,
          -62.69018325386972
         ],
         "y": [
          -21.34819436901642,
          -13.053374714860878,
          -18.524305051726518,
          -13.454938688643713,
          -16.59032703164507,
          -4.047127057355918,
          -2.236369548654112,
          -24.394720029310438,
          -0.9117875026534003,
          -11.692192642823699,
          -2.781346897438205,
          -12.429060693583738,
          -4.492558053047177,
          -8.736460645391706,
          -11.331101338313475,
          -5.4097413950395925,
          -15.443747164216143,
          -13.217904070532876,
          -12.522278030399915,
          -19.48916071143767,
          0.09166198554851651,
          -22.562450459770712,
          -14.5954189685263,
          -1.9087518868181779,
          -10.613742144733683,
          -1.6047148483352822,
          -3.2786967016875597,
          -8.983435212892221,
          3.495326026033594,
          -26.120602407600835,
          -3.8577490337814684,
          -9.594998179518951,
          -16.50808907056607,
          -16.74914192919374,
          -22.00443193174006,
          -12.473000442144206,
          -4.6327921406552655,
          -15.180707995323445,
          -4.78353721777558,
          -4.648553778328385,
          -22.434623555563658
         ],
         "z": [
          -0.7175627928135299,
          2.0868784070870885,
          4.549143318677929,
          1.0627439694038923,
          6.861760549929172,
          10.272496287156123,
          5.41082360288831,
          1.4457191240753304,
          4.948319730308343,
          0.3157802293430339,
          4.146518729596094,
          2.150436257388045,
          5.832848088853711,
          -6.953640220378322,
          3.994026252529406,
          4.607543120368474,
          3.890719927346465,
          1.43758747827457,
          4.901746315737021,
          1.865343128506181,
          6.4043097786700045,
          -0.8128050717212638,
          4.717237696384096,
          5.56158342168674,
          4.805878500652363,
          3.934890787142345,
          10.702480247637585,
          -8.245246078021676,
          3.6571703130094297,
          1.0446538204726608,
          9.341089969117101,
          3.860175756194778,
          6.219556893038873,
          3.162282207313616,
          1.4930251368524836,
          3.410731181359716,
          8.5345662488188,
          2.1420692460093274,
          -3.651181261861973,
          -3.389951894037028,
          -0.16010588887606872
         ]
        },
        {
         "customdata": [
          [
           "learning representations by back propagating errors"
          ],
          [
           "a signal flow graph approach to on line gradient calculation"
          ],
          [
           "approximation capabilities of multilayer feedforward networks"
          ],
          [
           "dropout a simple way to prevent neural networks from overfitting"
          ],
          [
           "efficient backprop"
          ],
          [
           "3d gaussian splatting for real time radiance field rendering"
          ],
          [
           "smote synthetic minority over sampling technique"
          ],
          [
           "maxout networks"
          ],
          [
           "batch normalization accelerating deep network training by reducing internal covariate shift"
          ],
          [
           "highway networks"
          ],
          [
           "you only look once unified real time object detection"
          ],
          [
           "a neural algorithm of artistic style"
          ],
          [
           "identity mappings in deep residual networks"
          ],
          [
           "categorical reparameterization with gumbel softmax"
          ],
          [
           "understanding deep learning requires rethinking generalization"
          ],
          [
           "arbitrary style transfer in real time with adaptive instance normalization"
          ],
          [
           "gans trained by a two time scale update rule converge to a local nash equilibrium"
          ],
          [
           "smash one shot model architecture search through hypernetworks"
          ],
          [
           "squeeze and excitation networks"
          ],
          [
           "deep image prior"
          ],
          [
           "understanding the disharmony between dropout and batch normalization by variance shift"
          ],
          [
           "occupancy networks learning 3d reconstruction in function space"
          ],
          [
           "deep double descent where bigger models and more data hurt"
          ],
          [
           "fourier features let networks learn high frequency functions in low dimensional domains"
          ],
          [
           "grokking generalization beyond overfitting on small algorithmic datasets"
          ],
          [
           "diffusiondet diffusion model for object detection"
          ],
          [
           "drag your gan interactive point based manipulation on the generative image manifold"
          ],
          [
           "neuralangelo high fidelity neural surface reconstruction"
          ],
          [
           "reducing the dimensionality of data with neural networks"
          ],
          [
           "bias plus variance decomposition for zero one loss functions"
          ],
          [
           "understanding the difficulty of training deep feedforward neural networks"
          ],
          [
           "deep sparse rectifier neural networks"
          ],
          [
           "generalization in a linear perceptron in the presence of noise"
          ]
         ],
         "hovertemplate": "labels=1.0<br>x=%{x}<br>y=%{y}<br>z=%{z}<br>title=%{customdata[0]}<extra></extra>",
         "legendgroup": "1.0",
         "marker": {
          "color": "#00cc96",
          "size": 3,
          "symbol": "circle"
         },
         "mode": "markers",
         "name": "1.0",
         "scene": "scene",
         "showlegend": true,
         "type": "scatter3d",
         "x": [
          -38.22278780213593,
          -42.11199437071349,
          -40.654144780733816,
          -14.74047233126324,
          -45.25389403204923,
          -29.83742615374922,
          -35.05607667886723,
          -15.787102532117654,
          -9.130168353904558,
          -26.492380517606083,
          -1.5924754078701993,
          -25.214908620737887,
          -8.711673287885661,
          -35.729642674848456,
          -10.720308986027591,
          -26.91607285636151,
          -36.546812676158595,
          -12.120837169835681,
          -6.551915392396213,
          -6.693804406276955,
          -46.61387031214597,
          -26.713511835000265,
          -33.8971264925465,
          -13.700326937913715,
          -37.307242979743485,
          -32.44299609889715,
          -25.132998599702976,
          -27.86570619095811,
          -44.04112824052287,
          -37.351773007910246,
          -26.371200204205184,
          -27.471186147994647,
          -36.31996144948698
         ],
         "y": [
          1.543649162759449,
          -0.23236234064394737,
          2.5759778103358464,
          17.286490686298215,
          2.929753799648171,
          5.109028474555152,
          2.664471145890731,
          17.78938797154945,
          30.321506793651665,
          11.120347108815876,
          32.59602632424375,
          6.7385741404259045,
          28.986604513160326,
          1.2678129671224103,
          28.350455514806942,
          7.542693025272339,
          3.188144427906516,
          20.69793755773523,
          31.528007565148727,
          31.81909837905795,
          3.805255413289948,
          9.948697469505165,
          -2.509663273974265,
          15.856592744032437,
          1.3529863052484519,
          4.016712360176294,
          4.393713638843628,
          5.987561896711992,
          -4.56349829828698,
          1.395269595628534,
          11.302151050922777,
          10.916458390574553,
          0.5330856218573475
         ],
         "z": [
          2.861681835703187,
          5.927929926002615,
          2.1783234087501264,
          5.969845236928408,
          3.9398164390090833,
          -10.026190397715933,
          -6.034694949199885,
          2.7241373033496643,
          1.6701574182423444,
          -2.110138298017457,
          5.356348989228654,
          -10.395275076392734,
          1.3024044995575599,
          2.162671234440704,
          1.7957855612044231,
          -9.555521736932176,
          -4.494962710193456,
          4.8751064483856705,
          1.645476382956832,
          -0.8434487585913969,
          3.1334386096792453,
          -5.467496346205983,
          -2.0944078904859276,
          6.653027581840692,
          -1.3848767436600204,
          -9.100909547193307,
          -11.96896757469605,
          -10.090963019432882,
          -3.1021543919728276,
          -3.5820153751016677,
          -0.3651564620249669,
          -3.50126649021451,
          -0.31485267620176643
         ]
        },
        {
         "customdata": [
          [
           "mathematical discoveries from program search with large language models funsearch"
          ],
          [
           "chain of thought prompting elicits reasoning in large language models"
          ],
          [
           "competition level code generation with alphacode"
          ],
          [
           "solving quantitative reasoning problems with language models"
          ],
          [
           "react synergizing reasoning and acting in language models"
          ],
          [
           "large language models encode clinical knowledge"
          ],
          [
           "audioldm text to audio generation with latent diffusion models"
          ],
          [
           "grounding large language models in interactive environments with online rl glam"
          ],
          [
           "llama open and efficient foundation language models"
          ],
          [
           "reward design with language models"
          ],
          [
           "generative agents interactive simulacra of human behavior"
          ],
          [
           "tree of thoughts deliberate problem solving with large language models"
          ],
          [
           "voyager an open ended embodied agent with large language models"
          ],
          [
           "direct preference optimization your language model is secretly a reward model"
          ],
          [
           "metagpt meta programming for multi agent collaborative framework"
          ],
          [
           "retroformer retrospective large language agents with policy gradient optimization"
          ],
          [
           "code llama open foundation models for code"
          ],
          [
           "rlaif scaling reinforcement learning from human feedback with ai feedback"
          ],
          [
           "large language models as optimizers"
          ],
          [
           "eureka human level reward design via coding large language models"
          ]
         ],
         "hovertemplate": "labels=8.0<br>x=%{x}<br>y=%{y}<br>z=%{z}<br>title=%{customdata[0]}<extra></extra>",
         "legendgroup": "8.0",
         "marker": {
          "color": "#ab63fa",
          "size": 3,
          "symbol": "circle"
         },
         "mode": "markers",
         "name": "8.0",
         "scene": "scene",
         "showlegend": true,
         "type": "scatter3d",
         "x": [
          47.02341679444421,
          49.67298136546709,
          49.116750324924645,
          47.01597821614791,
          49.46406843940649,
          49.784020551091636,
          29.23033826643916,
          45.924368779263176,
          48.089095058088034,
          42.96556618490314,
          46.48791254271916,
          48.19955759049601,
          46.872566935325864,
          41.8267820873032,
          49.35077325236957,
          41.26232321424045,
          49.98520362703252,
          43.689351371362775,
          44.295666222638246,
          45.232982954761006
         ],
         "y": [
          -36.99822112509345,
          -32.85870419220002,
          -34.72620474138806,
          -26.921047300252464,
          -36.95229603193647,
          -24.156678811555306,
          -8.776151470438652,
          -29.63651555292413,
          -22.159396879522763,
          -29.087858818088804,
          -35.53699300880868,
          -28.1291993215034,
          -34.7100615620239,
          -36.95808672033224,
          -36.83033142681292,
          -29.612928078497603,
          -30.91161953858005,
          -35.095456359666606,
          -36.34874064229015,
          -34.559728513655536
         ],
         "z": [
          -0.41411471314099935,
          -2.0915840256015925,
          -3.425650227688036,
          0.9808654654713912,
          -0.18712202646450768,
          0.7669490356497044,
          -8.731840233873337,
          0.5262642050733708,
          -0.4254720665335674,
          1.961301774066562,
          -5.1827047018339565,
          0.3295877415668925,
          -2.874724774455144,
          0.5147328349375903,
          -2.1951446233999143,
          2.3201285299469556,
          -1.966693413778527,
          -0.33639135113688096,
          0.910503146684331,
          -1.14358244308489
         ]
        },
        {
         "customdata": [
          [
           "deep neural networks for acoustic modeling in speech recognition the shared views of four research groups"
          ],
          [
           "bidirectional recurrent neural networks"
          ],
          [
           "acoustic modeling using deep belief networks"
          ],
          [
           "long short term memory"
          ],
          [
           "bidirectional recurrent neural networks"
          ],
          [
           "learning task dependent distributed representations by backpropagation through structure"
          ],
          [
           "on line learning algorithms for locally recurrent neural networks"
          ],
          [
           "gradientbased learning applied to document recognition"
          ],
          [
           "offline handwriting recognition with multidimensional recurrent neural networks"
          ],
          [
           "sequential deep learning for human action recognition"
          ],
          [
           "constructing deterministic finite state automata in recurrent neural networks"
          ],
          [
           "learning precise timing with lstm recurrent networks"
          ],
          [
           "a training algorithm for optimal margin classifier"
          ],
          [
           "kalman filters improve lstm network performance in problems unsolvable by traditional recurrent nets"
          ],
          [
           "generating sequences with recurrent neural networks"
          ],
          [
           "neural turing machines"
          ],
          [
           "learning phrase representations using rnn encoder decoder for statistical machine translation"
          ],
          [
           "simplified minimal gated unit variations for recurrent neural networks"
          ],
          [
           "gate variants of gated recurrent unit gru neural networks"
          ],
          [
           "predictive business process monitoring with lstm neural networks"
          ],
          [
           "independently recurrent neural network indrnn building a longer and deeper rnn"
          ],
          [
           "dino detr with improved denoising anchor boxes for end to end object detection"
          ],
          [
           "stabilizing transformer training by preventing attention entropy collapse"
          ],
          [
           "siamese neural networks for one shot image recognition"
          ]
         ],
         "hovertemplate": "labels=6.0<br>x=%{x}<br>y=%{y}<br>z=%{z}<br>title=%{customdata[0]}<extra></extra>",
         "legendgroup": "6.0",
         "marker": {
          "color": "#FFA15A",
          "size": 3,
          "symbol": "circle"
         },
         "mode": "markers",
         "name": "6.0",
         "scene": "scene",
         "showlegend": true,
         "type": "scatter3d",
         "x": [
          6.390915448887009,
          -8.518418809299588,
          7.210295584741643,
          0.22638514340857646,
          -8.064607507132749,
          4.648152182538481,
          -12.107932267192423,
          8.49851889330579,
          10.704880206008557,
          -3.3980190389873846,
          -11.702406829205557,
          -0.978859879060433,
          -12.521310512596049,
          -12.874958393808882,
          -6.056494370190398,
          -10.205380422028021,
          11.343391423214852,
          -6.66338715114745,
          -5.987420065617074,
          -6.917639409040599,
          -9.462679850125356,
          -14.174121465507335,
          7.594648327038782,
          -4.928724672090152
         ],
         "y": [
          -5.242118135109361,
          3.7141074696704974,
          -5.86177164501998,
          -2.138453439974433,
          4.913655844911996,
          -3.338757702127973,
          8.884305066860668,
          0.37404519342011394,
          0.450385931058511,
          26.645949550015203,
          5.579228101030784,
          -2.708155775115831,
          17.777794232330518,
          6.590957377428212,
          3.9008891786225703,
          1.020191825504467,
          -6.28998402466666,
          12.64645552938195,
          13.830938968073829,
          -2.878860533544028,
          7.488062599596725,
          18.39799267483357,
          -0.4926511048788982,
          26.82351583348768
         ],
         "z": [
          6.729316285718516,
          11.917016460240815,
          5.347270514769161,
          11.29834181756872,
          11.923232528033989,
          7.288455796495901,
          9.951640510970774,
          9.5639904694765,
          9.409396278477644,
          5.933334593818826,
          11.354801500149545,
          10.82614595712735,
          4.9475118878929445,
          10.47209985322227,
          11.539207951225663,
          11.993715310087882,
          7.365938795667275,
          10.02525680947516,
          9.915584278871238,
          12.063137720937169,
          11.021879044271733,
          3.646836972473551,
          10.330772670787177,
          5.54717617901144
         ]
        },
        {
         "customdata": [
          [
           "context dependent pre trained deep neural networks for large vocabulary speech recognition"
          ],
          [
           "lstm recurrent networks learn simple context free and context sensitive languages"
          ],
          [
           "photo real talking head with deep bidirectional lstm"
          ],
          [
           "visual prompt tuning"
          ],
          [
           "an application of recurrent neural networks to discriminative keyword spotting"
          ],
          [
           "unconstrained online handwriting recognition with recurrent neural networks"
          ],
          [
           "framewise phoneme classification with bidirectional lstm and other neural network architectures"
          ],
          [
           "speech recognition with deep recurrent neural networks"
          ],
          [
           "constructing long short term memory based deep recurrent neural networks for large vocabulary speech recognition"
          ],
          [
           "neural machine translation by jointly learning to align and translate"
          ],
          [
           "on the properties of neural machine translation encoder decoder approaches"
          ],
          [
           "sequence to sequence learning with neural networks"
          ],
          [
           "vqa visual question answering"
          ],
          [
           "end to end attention based large vocabulary speech recognition"
          ],
          [
           "neural machine translation of rare words with subword units"
          ],
          [
           "exploring the limits of language modeling"
          ],
          [
           "google s neural machine translation system bridging the gap between human and machine translation"
          ],
          [
           "a structured self attentive sentence embedding"
          ],
          [
           "zero memory optimizations toward training trillion parameter models"
          ],
          [
           "intrinsic dimensionality explains the effectiveness of language model fine tuning"
          ],
          [
           "bc z zero shot task generalization with robotic imitation learning"
          ],
          [
           "gpt neox 20b an open source autoregressive language model"
          ],
          [
           "mulan a joint embedding of music audio and natural language"
          ],
          [
           "audiolm a language modeling approach to audio generation"
          ],
          [
           "audiogen textually guided audio generation"
          ],
          [
           "detectgpt zero shot machine generated text detection using probability curvature"
          ],
          [
           "the impact of positional encoding on length generalization in transformers"
          ],
          [
           "simple and controllable music generation musicgen"
          ],
          [
           "recurrent neural network based language model"
          ]
         ],
         "hovertemplate": "labels=5.0<br>x=%{x}<br>y=%{y}<br>z=%{z}<br>title=%{customdata[0]}<extra></extra>",
         "legendgroup": "5.0",
         "marker": {
          "color": "#19d3f3",
          "size": 3,
          "symbol": "circle"
         },
         "mode": "markers",
         "name": "5.0",
         "scene": "scene",
         "showlegend": true,
         "type": "scatter3d",
         "x": [
          23.68454563874375,
          25.686185181575503,
          20.3754459907197,
          28.18466394876323,
          15.290190640027932,
          13.9029092938089,
          24.135507255151676,
          16.544719411770476,
          25.83334221337846,
          13.365343933132735,
          18.642073188345993,
          20.650863722916547,
          13.932203603393475,
          24.38403535596256,
          31.84468886841943,
          28.308742739960373,
          30.254183727470597,
          22.116403021798995,
          25.76060018688625,
          23.719243103020705,
          21.41233785003645,
          22.910813135879707,
          28.79622039732436,
          30.592822648873977,
          11.897001565743679,
          21.7199973181824,
          18.63103118771703,
          28.220919262497706,
          14.432466373662768
         ],
         "y": [
          -12.683438008825599,
          -1.9802762014787343,
          -0.49565661940699496,
          -14.088020460690258,
          -0.22482267008949855,
          0.06433888440768282,
          -1.5881342940083463,
          -2.8736543046534955,
          -0.36519168506585714,
          -7.411451203108232,
          -3.2796582512003347,
          -2.5900334942687957,
          -8.27779003453187,
          1.1145318627845833,
          -4.76774589844885,
          -2.7158010800592858,
          -4.786385521523156,
          -12.8559420694804,
          -14.051045587964458,
          -16.560495753059676,
          -15.531868594229316,
          -17.435283450829154,
          -8.140007596167107,
          -7.092785652407507,
          -7.950696370446826,
          -15.850739740588951,
          -15.060866053072546,
          -6.44405638706832,
          -5.516577411735648
         ],
         "z": [
          2.3130043382285863,
          10.775719180932823,
          9.202484952139677,
          3.994721828935891,
          10.086542224930907,
          10.161257736176122,
          9.53510140876845,
          8.87432376919734,
          8.702843872679473,
          7.017669920644591,
          9.993746791495175,
          9.842817638583993,
          -16.392052121393107,
          8.476800220884458,
          2.5737621757134734,
          6.87499154975864,
          3.890715999961701,
          0.9469947210987425,
          3.609753960815656,
          3.0598967922756892,
          -1.1863677202017862,
          2.169993735218978,
          -7.666981921149356,
          -6.4116149460815555,
          -17.242076343102376,
          0.5711432088212829,
          3.014913005981457,
          -7.0825290502919955,
          7.871050119069209
         ]
        },
        {
         "customdata": [
          [
           "wavlm large scale self supervised pre training for full stack speech processing"
          ],
          [
           "multilingual language processing from bytes"
          ],
          [
           "robust speech recognition via large scale weak supervision whisper"
          ],
          [
           "universal language model fine tuning for text classification"
          ],
          [
           "deep contextualized word representations"
          ],
          [
           "bert pre training of deep bidirectional transformers for language understanding"
          ],
          [
           "language models are few shot learners"
          ],
          [
           "lora low rank adaptation of large language models"
          ],
          [
           "finetuned language models are zero shot learners"
          ],
          [
           "bigssl exploring the frontier of large scale semi supervised learning for asr"
          ],
          [
           "speecht5 unified modal encoder decoder pre training for spoken language processing"
          ],
          [
           "multitask prompted training enables zero shot task generalization"
          ],
          [
           "lambda language models for dialog applications"
          ],
          [
           "mslam massively multilingual joint pre training for speech and text"
          ],
          [
           "training language models to follow human instructions with human feedback"
          ],
          [
           "training compute optimal large language models"
          ],
          [
           "do as i can not as i say grounding language in robotic affordances"
          ],
          [
           "palm scaling language modeling with pathways"
          ],
          [
           "maestro matched speech text representations through modality matching"
          ],
          [
           "beyond the imitation game quantifying and extrapolating the capabilities of language models"
          ],
          [
           "bloom a 176b parameter open access multilingual language model"
          ],
          [
           "neural codec language models are zero shot text to speech synthesizers vall e"
          ],
          [
           "toolformer language models can teach themselves to use tools"
          ],
          [
           "google usm scaling automatic speech recognition beyond 100 languages"
          ],
          [
           "visual chatgpt talking drawing and editing with visual foundation models"
          ],
          [
           "sparks of artificial general intelligence early experiments with gpt 4"
          ],
          [
           "bloomberggpt a large language model for finance"
          ],
          [
           "hugginggpt solving ai tasks with chatgpt and its friends in huggingface"
          ],
          [
           "instruction tuning with gpt 4"
          ],
          [
           "visual instruction tuning"
          ],
          [
           "palm 2 technical report"
          ],
          [
           "lima less is more for alignment"
          ],
          [
           "scaling speech technology to 1000 languages mms"
          ],
          [
           "qlora efficient finetuning of quantized llms"
          ],
          [
           "audiopalm a large language model that can speak and listen"
          ],
          [
           "voicebox text guided multilingual universal speech generation at scale"
          ],
          [
           "toolllm facilitating large language models to master 16000 real world apis"
          ],
          [
           "efficient streaming language models with attention sinks"
          ],
          [
           "improving language understanding by generative pre training"
          ]
         ],
         "hovertemplate": "labels=0.0<br>x=%{x}<br>y=%{y}<br>z=%{z}<br>title=%{customdata[0]}<extra></extra>",
         "legendgroup": "0.0",
         "marker": {
          "color": "#FF6692",
          "size": 3,
          "symbol": "circle"
         },
         "mode": "markers",
         "name": "0.0",
         "scene": "scene",
         "showlegend": true,
         "type": "scatter3d",
         "x": [
          40.65759592556495,
          48.40929894559885,
          42.403064891865014,
          41.04573923699255,
          42.89532210517704,
          41.321517751711404,
          50.42003264612843,
          43.36670580070005,
          44.93476058829751,
          38.99168611193675,
          46.16171914955071,
          46.005334049093946,
          49.13394181263013,
          47.41264940680881,
          45.28021507613029,
          44.40158310820409,
          52.47265560015529,
          47.041779114057874,
          35.32792650805317,
          48.035351164693274,
          51.42275917027017,
          34.48313812055329,
          51.86545250367837,
          45.926939390581616,
          47.53487722835271,
          47.11084836667456,
          48.334209888473104,
          49.32999489877935,
          46.74821527597944,
          47.78386256971152,
          42.046653136715435,
          50.56610893971384,
          45.121251995529974,
          41.69137968560873,
          48.705511771154036,
          42.735056193512165,
          51.92692675268795,
          51.06794914674534,
          45.476016068331596
         ],
         "y": [
          -6.8268670640411635,
          2.944453123065205,
          -5.90560008654892,
          -13.255243137693311,
          -2.28439854433147,
          -3.0341745253328303,
          -4.1018855965253325,
          -11.06476762673588,
          -14.729381542214123,
          -7.225705572878149,
          2.750885944582968,
          -6.197769874507185,
          -21.47400427873477,
          4.558482206478121,
          -17.246578268309467,
          -12.870867776319368,
          -18.289920962349967,
          -6.735221318656844,
          -3.6584171531256344,
          -19.42529658361312,
          -23.287396438251335,
          -4.466663889676388,
          -15.703135635253021,
          -3.927917287783202,
          8.269022617674867,
          -18.024504468577753,
          -7.9757081948465505,
          -16.93611472893272,
          -10.313140535140391,
          5.713888930476747,
          -10.663782236850125,
          -7.64149803869542,
          -5.084217860203676,
          -11.736590967135882,
          -1.9577889860542985,
          -2.164888093860845,
          -9.289454597321875,
          -16.570853216484387,
          -3.215538165683868
         ],
         "z": [
          4.816162371896376,
          1.1987089772682966,
          6.262673274565729,
          2.312184052461691,
          7.408639290086966,
          7.915615684195365,
          7.250820797599446,
          6.383182580204067,
          4.014677759626283,
          5.837541646460367,
          1.4725466266835494,
          6.420930501311326,
          1.487307357894315,
          1.9758011187569833,
          3.9965792820583004,
          5.087569817971658,
          4.5801662090324005,
          3.388942616906095,
          0.2912320388744681,
          3.4280485382034174,
          0.5857487712139918,
          1.2665185636360612,
          3.2502857769235933,
          1.0011621156793284,
          5.014796230142195,
          4.443124398428316,
          4.576575214461623,
          6.028201656330838,
          5.200483776917757,
          4.092178799644264,
          3.3918554231100013,
          5.182301566423463,
          0.07442206622687979,
          7.855614656740841,
          0.18835035598420505,
          0.8594158797980983,
          5.209467374921161,
          1.6132268952380655,
          6.061649712682558
         ]
        },
        {
         "customdata": [
          [
           "learning hierarchical features for scene labeling"
          ],
          [
           "3d convolutional neural networks for human action recognition"
          ],
          [
           "learning and transferring mid level image representations using convolutional neural networks"
          ],
          [
           "deepface closing the gap to human level performance in face verification"
          ],
          [
           "large scale video classification with convolutional neural networks"
          ],
          [
           "imagenet classification with deep convolutional neural networks"
          ],
          [
           "swin unetr swin transformers for semantic segmentation of brain tumors in mri images"
          ],
          [
           "decaf a deep convolutional activation feature for generic visual recognition"
          ],
          [
           "rich feature hierarchies for accurate object detection and semantic segmentation"
          ],
          [
           "visualizing and understanding convolutional networks"
          ],
          [
           "network in network"
          ],
          [
           "overfeat integrated recognition localization and detection using convolutional networks"
          ],
          [
           "cnn features off the shelf an astounding baseline for recognition"
          ],
          [
           "return of the devil in the details delving deep into convolutional nets"
          ],
          [
           "two stream convolutional networks for action recognition in videos"
          ],
          [
           "spatial pyramid pooling in deep convolutional networks for visual recognition"
          ],
          [
           "very deep convolutional networks for large scale image recognition"
          ],
          [
           "going deeper with convolutions"
          ],
          [
           "fully convolutional networks for semantic segmentation"
          ],
          [
           "understanding deep image representations by inverting them"
          ],
          [
           "deep neural networks are easily fooled high confidence predictions for unrecognizable images"
          ],
          [
           "semantic image segmentation with deep convolutional nets and fully connected crfs"
          ],
          [
           "image super resolution using deep convolutional networks"
          ],
          [
           "fast r cnn"
          ],
          [
           "faster r cnn towards real time object detection with region proposal networks"
          ],
          [
           "spatial transformer network"
          ],
          [
           "rethinking the inception architecture for computer vision"
          ],
          [
           "deep residual learning for image recognition"
          ],
          [
           "inception v4 inception resnet and the impact of residual connections on learning"
          ],
          [
           "feature pyramid networks for object detection"
          ],
          [
           "mask r cnn"
          ],
          [
           "mobilenets efficient convolutional neural networks for mobile vision applications"
          ],
          [
           "mobilenetv2 inverted residuals and linear bottlenecks"
          ],
          [
           "efficientnet rethinking model scaling for convolutional neural networks"
          ],
          [
           "taming transformers for high resolution image synthesis"
          ],
          [
           "cmt convolutional neural networks meet vision transformers"
          ],
          [
           "a convnet for the 2020s"
          ],
          [
           "scaling up your kernels to 31 31 revisiting large kernel design in cnns"
          ],
          [
           "better plain vit baselines for imagenet 1k"
          ],
          [
           "scalable diffusion models with transformers dit"
          ],
          [
           "adding conditional control to text to image diffusion models controlnet"
          ],
          [
           "synthetic data from diffusion models improves imagenet classification"
          ],
          [
           "inceptionism going deeper into neural networks"
          ]
         ],
         "hovertemplate": "labels=4.0<br>x=%{x}<br>y=%{y}<br>z=%{z}<br>title=%{customdata[0]}<extra></extra>",
         "legendgroup": "4.0",
         "marker": {
          "color": "#B6E880",
          "size": 3,
          "symbol": "circle"
         },
         "mode": "markers",
         "name": "4.0",
         "scene": "scene",
         "showlegend": true,
         "type": "scatter3d",
         "x": [
          19.632713041570355,
          17.013493109102757,
          10.783538163923263,
          20.91162047364336,
          30.60688246505919,
          8.180258995577645,
          22.366829973442744,
          19.95910771684171,
          9.833135454382921,
          10.823249346517484,
          -4.701917269580248,
          17.014879852969027,
          13.592357721960033,
          10.196632485567205,
          16.471517252108683,
          8.784476574524414,
          7.995310432508133,
          1.8285487241966203,
          8.946568252952739,
          -2.815768007045931,
          -2.7189773802457435,
          -0.665235319961999,
          4.266827849322315,
          2.475558665855162,
          2.7818221522834716,
          20.57790345697641,
          29.77588093300456,
          6.5598973283121245,
          8.817078234388912,
          0.009405676817606557,
          18.247930437641706,
          13.593596464498436,
          15.953646731778223,
          5.50872377346298,
          21.53064953262758,
          32.72163776450832,
          31.788166428500762,
          7.094464295846306,
          28.90657817735214,
          22.794457973957993,
          -1.4563450245198664,
          7.615648423016715,
          -3.267954658530941
         ],
         "y": [
          40.62198355076749,
          38.522357089675715,
          41.85328057973299,
          37.32537050905346,
          35.15335334829622,
          39.71171987420929,
          31.776904781883413,
          39.33437463452954,
          40.799259393132395,
          39.52066036072095,
          29.651260729200338,
          40.25783373909056,
          39.68981294087209,
          39.365071341913556,
          38.73443341411149,
          41.26053577703764,
          41.558822739773895,
          38.143987204710704,
          43.14466494850263,
          32.47294901495888,
          30.53474242325041,
          37.07970397709988,
          40.34483374900765,
          36.5070413900287,
          36.276270061849026,
          32.408587938224386,
          36.51090890362339,
          36.620527928525675,
          37.849603815205384,
          33.69854981863984,
          39.89129598353179,
          38.01475576168781,
          38.05075456889854,
          38.42590580876254,
          33.07271624286599,
          33.15093923329466,
          34.01466623328392,
          38.03556012494208,
          33.6553718328566,
          34.84260635787995,
          32.449779594139976,
          -2.348978346611113,
          28.678757115151708
         ],
         "z": [
          -7.089236114156432,
          3.1244747981025736,
          -3.486136683142971,
          -6.185768919192897,
          2.9804680806766526,
          -0.02348454954695029,
          -2.402673097491907,
          -6.310429957533692,
          3.6073556215590985,
          -1.0024032914779122,
          3.1639388241936723,
          -3.098087743401399,
          3.478910953840827,
          0.9551360270838479,
          2.0500344209424246,
          1.4956480131207082,
          -1.5674905469496647,
          0.46037644078477247,
          -4.297681061600619,
          -2.5203590043272484,
          2.1928901897596824,
          -0.08592678233255044,
          5.66562706291024,
          3.42738660711247,
          4.657539243722368,
          -1.8162765231701703,
          3.96691998699029,
          4.223084875640031,
          4.037795821962446,
          5.166482491203591,
          -3.957133272021496,
          -3.42838672068957,
          -3.7924564274667807,
          -2.3023223548651255,
          -3.0334346998235584,
          1.9100791699317043,
          0.3358440941620978,
          -0.853051490588946,
          -1.9026742351388362,
          -4.442849755128868,
          -3.5268622685440865,
          -21.816718229849425,
          4.566905003813929
         ]
        },
        {
         "customdata": [
          [
           "face recognition using eigenfaces"
          ],
          [
           "tensorf tensorial radiance fields"
          ],
          [
           "distributed representations of words and phrases and their compositionality"
          ],
          [
           "deep speech 2 end to end speech recognition in english and mandarin"
          ],
          [
           "neural discrete representation learning"
          ],
          [
           "tracking emerges by colorizing videos"
          ],
          [
           "representation learning with contrastive predictive coding"
          ],
          [
           "generating diverse high fidelity images with vq vae 2"
          ],
          [
           "learning to walk in minutes using massively parallel deep reinforcement learning anymal"
          ],
          [
           "high resolution image synthesis with latent diffusion models"
          ],
          [
           "learning robust perceptive locomotion for quadrupedal robots in the wild"
          ],
          [
           "block nerf scalable large scene neural view synthesis"
          ],
          [
           "add 2022 the first audio deep synthesis detection challenge"
          ],
          [
           "hierarchical text conditional image generation with clip latents dall e 2"
          ],
          [
           "multi concept customization of text to image diffusion custom diffusion"
          ],
          [
           "dreambooth fine tuning text to image diffusion models for subject driven generation"
          ],
          [
           "dreamfusion text to 3d using 2d diffusion"
          ],
          [
           "on distillation of guided diffusion models"
          ],
          [
           "musiclm generating music from text"
          ],
          [
           "imagic text based real image editing with diffusion models"
          ],
          [
           "high fidelity neural audio compression encodec"
          ],
          [
           "instructpix2pix learning to follow image editing instructions"
          ],
          [
           "magic3d high resolution text to 3d content creation"
          ],
          [
           "structure and content guided video synthesis with diffusion models gen 1"
          ],
          [
           "scaling up gans for text to image synthesis gigagan"
          ],
          [
           "segment anything in medical images"
          ],
          [
           "align your latents high resolution video synthesis with latent diffusion models"
          ],
          [
           "sdxl improving latent diffusion models for high resolution image synthesis"
          ],
          [
           "mvdream multi view diffusion for 3d generation"
          ]
         ],
         "hovertemplate": "labels=7.0<br>x=%{x}<br>y=%{y}<br>z=%{z}<br>title=%{customdata[0]}<extra></extra>",
         "legendgroup": "7.0",
         "marker": {
          "color": "#FF97FF",
          "size": 3,
          "symbol": "circle"
         },
         "mode": "markers",
         "name": "7.0",
         "scene": "scene",
         "showlegend": true,
         "type": "scatter3d",
         "x": [
          -14.343216645630342,
          -9.086590164933801,
          5.897161134834843,
          6.132452209311985,
          -11.826298571987678,
          -0.7970397028651899,
          -14.212158341460997,
          -6.8001001649210275,
          -18.059688168872093,
          -10.003258384136432,
          -17.224111100556417,
          -10.126784210301576,
          5.448719527483503,
          9.511279249336862,
          3.269146037451207,
          7.213799803911062,
          0.4226196633962955,
          -5.196730958753498,
          6.679517678369369,
          6.5203931835587685,
          -13.523427304495113,
          7.4320590928128505,
          2.5270414648570925,
          4.677207583409232,
          0.9817328487831043,
          -5.47195377609605,
          6.271054589219256,
          0.08732531935685764,
          -1.1523789690481918
         ],
         "y": [
          -7.662024018494368,
          -5.192694191918515,
          -10.380427966614295,
          -8.003859541948104,
          -9.41464917563974,
          -8.089981010355022,
          -11.450153779576677,
          -7.1767692011509,
          -18.446217438512747,
          -7.935063432068631,
          -17.191261566315713,
          -4.377501606592574,
          -8.389668139813468,
          -7.34906238843655,
          -6.650066601484378,
          -6.690660360024689,
          -5.816129082401887,
          -6.917216541029388,
          -12.668535833816314,
          -4.16030942259944,
          -9.617854647405888,
          -6.525972347290919,
          -7.641987649301399,
          -5.327273671280627,
          -7.6299668671619045,
          -6.709341752062865,
          -8.209095802870273,
          -7.722011547370174,
          -4.6811267361261635
         ],
         "z": [
          -14.48033931926684,
          -15.613054534624933,
          -1.1920178461299267,
          1.0774218578073593,
          -15.15507251553206,
          -13.602319035079347,
          -13.34919558285456,
          -20.0439783757892,
          -10.751767520353166,
          -16.295172147972202,
          -11.11019048950305,
          -15.618058987083133,
          -0.4742753919965345,
          -18.501612736069053,
          -17.47079046203752,
          -18.653084630221667,
          -19.570371069485894,
          -20.722153833427733,
          -2.194346375516126,
          -20.837516727985495,
          -14.285366661517813,
          -20.5961974681362,
          -19.110647172979768,
          -19.684262031230737,
          -15.432605919054785,
          -14.343899804148881,
          -17.79902662450673,
          -19.994595497907678,
          -19.579610110886584
         ]
        },
        {
         "customdata": [
          [
           "long term recurrent convolutional networks for visual recognition and description"
          ],
          [
           "show and tell a neural image caption generator"
          ],
          [
           "deep visual semantic alignments for generating image descriptions"
          ],
          [
           "show attend and tell neural image caption generation with visual attention"
          ],
          [
           "attention is all you need"
          ],
          [
           "an image is worth 16x16 words transformers for image recognition at scale"
          ],
          [
           "learning transferable visual models from natural language supervision"
          ],
          [
           "efficient training of audio transformers with patchout passt"
          ],
          [
           "patches are all you need convmixer"
          ],
          [
           "maxvit multi axis vision transformer"
          ],
          [
           "photorealistic text to image diffusion models with deep language understanding imagen"
          ],
          [
           "git a generative image to text transformer for vision and language"
          ],
          [
           "make a video text to video generation without text video data"
          ],
          [
           "laion 5b an open large scale dataset for training next generation image text models"
          ],
          [
           "muse text to image generation via masked generative transformers"
          ],
          [
           "scaling vision transformers to 22 billion parameters"
          ],
          [
           "dinov2 learning robust visual features without supervision"
          ],
          [
           "vision transformers need registers"
          ],
          [
           "qwen vl a versatile vision language model for understanding localization and generation"
          ],
          [
           "florence 2 advancing a unified representation for a variety of vision tasks"
          ],
          [
           "videopoet a large language model for zero shot video generation"
          ]
         ],
         "hovertemplate": "labels=3.0<br>x=%{x}<br>y=%{y}<br>z=%{z}<br>title=%{customdata[0]}<extra></extra>",
         "legendgroup": "3.0",
         "marker": {
          "color": "#FECB52",
          "size": 3,
          "symbol": "circle"
         },
         "mode": "markers",
         "name": "3.0",
         "scene": "scene",
         "showlegend": true,
         "type": "scatter3d",
         "x": [
          35.12800751798285,
          39.75361831041104,
          37.986071305430805,
          39.57577813150769,
          27.050212822512595,
          43.41804550507084,
          42.648484879715944,
          27.840967983726422,
          32.84960790168318,
          30.97538728453075,
          40.80685837073768,
          49.92832747526232,
          40.38983994277606,
          44.69035502301531,
          45.320351974825606,
          45.54083824148123,
          42.67170387907062,
          40.85816793803704,
          49.134155186358576,
          43.71834628099791,
          48.757846043165266
         ],
         "y": [
          24.94665846214046,
          20.443905008714708,
          22.203669764669254,
          22.904333695470037,
          3.792800499576968,
          25.177743473475232,
          18.93333465667746,
          4.973863591493711,
          31.97292633231552,
          32.04639265621092,
          15.704661786560694,
          10.537682139943165,
          18.0803228375226,
          13.539386969101852,
          11.132616099306592,
          13.403228693739617,
          18.120443990667937,
          25.087715406018685,
          9.239927295165998,
          16.209404523362362,
          7.813923347048683
         ],
         "z": [
          0.809721594238167,
          1.409143175572899,
          1.1623942382830996,
          1.4396758766928262,
          8.985646329560856,
          1.6066462613907102,
          2.8334238173675317,
          8.925221653669224,
          0.7028410610996767,
          -1.0343702377797828,
          0.2679585606962431,
          1.0279891516859718,
          0.9901105025189599,
          2.4962610640617027,
          1.3741230104831559,
          4.106250557113365,
          4.112861213869542,
          1.5297964063128642,
          2.9639782748686585,
          3.0907000949343555,
          0.4366248424280207
         ]
        }
       ],
       "layout": {
        "legend": {
         "title": {
          "text": "labels"
         },
         "tracegroupgap": 0
        },
        "margin": {
         "t": 60
        },
        "scene": {
         "aspectmode": "data",
         "camera": {
          "center": {
           "x": 0,
           "y": 0,
           "z": 0
          },
          "eye": {
           "x": 0.7,
           "y": 0.7,
           "z": 0.7
          }
         },
         "domain": {
          "x": [
           0,
           1
          ],
          "y": [
           0,
           1
          ]
         },
         "xaxis": {
          "title": {
           "text": "1"
          }
         },
         "yaxis": {
          "title": {
           "text": "2"
          }
         },
         "zaxis": {
          "title": {
           "text": "3"
          }
         }
        },
        "template": {
         "data": {
          "bar": [
           {
            "error_x": {
             "color": "#2a3f5f"
            },
            "error_y": {
             "color": "#2a3f5f"
            },
            "marker": {
             "line": {
              "color": "#E5ECF6",
              "width": 0.5
             },
             "pattern": {
              "fillmode": "overlay",
              "size": 10,
              "solidity": 0.2
             }
            },
            "type": "bar"
           }
          ],
          "barpolar": [
           {
            "marker": {
             "line": {
              "color": "#E5ECF6",
              "width": 0.5
             },
             "pattern": {
              "fillmode": "overlay",
              "size": 10,
              "solidity": 0.2
             }
            },
            "type": "barpolar"
           }
          ],
          "carpet": [
           {
            "aaxis": {
             "endlinecolor": "#2a3f5f",
             "gridcolor": "white",
             "linecolor": "white",
             "minorgridcolor": "white",
             "startlinecolor": "#2a3f5f"
            },
            "baxis": {
             "endlinecolor": "#2a3f5f",
             "gridcolor": "white",
             "linecolor": "white",
             "minorgridcolor": "white",
             "startlinecolor": "#2a3f5f"
            },
            "type": "carpet"
           }
          ],
          "choropleth": [
           {
            "colorbar": {
             "outlinewidth": 0,
             "ticks": ""
            },
            "type": "choropleth"
           }
          ],
          "contour": [
           {
            "colorbar": {
             "outlinewidth": 0,
             "ticks": ""
            },
            "colorscale": [
             [
              0,
              "#0d0887"
             ],
             [
              0.1111111111111111,
              "#46039f"
             ],
             [
              0.2222222222222222,
              "#7201a8"
             ],
             [
              0.3333333333333333,
              "#9c179e"
             ],
             [
              0.4444444444444444,
              "#bd3786"
             ],
             [
              0.5555555555555556,
              "#d8576b"
             ],
             [
              0.6666666666666666,
              "#ed7953"
             ],
             [
              0.7777777777777778,
              "#fb9f3a"
             ],
             [
              0.8888888888888888,
              "#fdca26"
             ],
             [
              1,
              "#f0f921"
             ]
            ],
            "type": "contour"
           }
          ],
          "contourcarpet": [
           {
            "colorbar": {
             "outlinewidth": 0,
             "ticks": ""
            },
            "type": "contourcarpet"
           }
          ],
          "heatmap": [
           {
            "colorbar": {
             "outlinewidth": 0,
             "ticks": ""
            },
            "colorscale": [
             [
              0,
              "#0d0887"
             ],
             [
              0.1111111111111111,
              "#46039f"
             ],
             [
              0.2222222222222222,
              "#7201a8"
             ],
             [
              0.3333333333333333,
              "#9c179e"
             ],
             [
              0.4444444444444444,
              "#bd3786"
             ],
             [
              0.5555555555555556,
              "#d8576b"
             ],
             [
              0.6666666666666666,
              "#ed7953"
             ],
             [
              0.7777777777777778,
              "#fb9f3a"
             ],
             [
              0.8888888888888888,
              "#fdca26"
             ],
             [
              1,
              "#f0f921"
             ]
            ],
            "type": "heatmap"
           }
          ],
          "histogram": [
           {
            "marker": {
             "pattern": {
              "fillmode": "overlay",
              "size": 10,
              "solidity": 0.2
             }
            },
            "type": "histogram"
           }
          ],
          "histogram2d": [
           {
            "colorbar": {
             "outlinewidth": 0,
             "ticks": ""
            },
            "colorscale": [
             [
              0,
              "#0d0887"
             ],
             [
              0.1111111111111111,
              "#46039f"
             ],
             [
              0.2222222222222222,
              "#7201a8"
             ],
             [
              0.3333333333333333,
              "#9c179e"
             ],
             [
              0.4444444444444444,
              "#bd3786"
             ],
             [
              0.5555555555555556,
              "#d8576b"
             ],
             [
              0.6666666666666666,
              "#ed7953"
             ],
             [
              0.7777777777777778,
              "#fb9f3a"
             ],
             [
              0.8888888888888888,
              "#fdca26"
             ],
             [
              1,
              "#f0f921"
             ]
            ],
            "type": "histogram2d"
           }
          ],
          "histogram2dcontour": [
           {
            "colorbar": {
             "outlinewidth": 0,
             "ticks": ""
            },
            "colorscale": [
             [
              0,
              "#0d0887"
             ],
             [
              0.1111111111111111,
              "#46039f"
             ],
             [
              0.2222222222222222,
              "#7201a8"
             ],
             [
              0.3333333333333333,
              "#9c179e"
             ],
             [
              0.4444444444444444,
              "#bd3786"
             ],
             [
              0.5555555555555556,
              "#d8576b"
             ],
             [
              0.6666666666666666,
              "#ed7953"
             ],
             [
              0.7777777777777778,
              "#fb9f3a"
             ],
             [
              0.8888888888888888,
              "#fdca26"
             ],
             [
              1,
              "#f0f921"
             ]
            ],
            "type": "histogram2dcontour"
           }
          ],
          "mesh3d": [
           {
            "colorbar": {
             "outlinewidth": 0,
             "ticks": ""
            },
            "type": "mesh3d"
           }
          ],
          "parcoords": [
           {
            "line": {
             "colorbar": {
              "outlinewidth": 0,
              "ticks": ""
             }
            },
            "type": "parcoords"
           }
          ],
          "pie": [
           {
            "automargin": true,
            "type": "pie"
           }
          ],
          "scatter": [
           {
            "fillpattern": {
             "fillmode": "overlay",
             "size": 10,
             "solidity": 0.2
            },
            "type": "scatter"
           }
          ],
          "scatter3d": [
           {
            "line": {
             "colorbar": {
              "outlinewidth": 0,
              "ticks": ""
             }
            },
            "marker": {
             "colorbar": {
              "outlinewidth": 0,
              "ticks": ""
             }
            },
            "type": "scatter3d"
           }
          ],
          "scattercarpet": [
           {
            "marker": {
             "colorbar": {
              "outlinewidth": 0,
              "ticks": ""
             }
            },
            "type": "scattercarpet"
           }
          ],
          "scattergeo": [
           {
            "marker": {
             "colorbar": {
              "outlinewidth": 0,
              "ticks": ""
             }
            },
            "type": "scattergeo"
           }
          ],
          "scattergl": [
           {
            "marker": {
             "colorbar": {
              "outlinewidth": 0,
              "ticks": ""
             }
            },
            "type": "scattergl"
           }
          ],
          "scattermap": [
           {
            "marker": {
             "colorbar": {
              "outlinewidth": 0,
              "ticks": ""
             }
            },
            "type": "scattermap"
           }
          ],
          "scattermapbox": [
           {
            "marker": {
             "colorbar": {
              "outlinewidth": 0,
              "ticks": ""
             }
            },
            "type": "scattermapbox"
           }
          ],
          "scatterpolar": [
           {
            "marker": {
             "colorbar": {
              "outlinewidth": 0,
              "ticks": ""
             }
            },
            "type": "scatterpolar"
           }
          ],
          "scatterpolargl": [
           {
            "marker": {
             "colorbar": {
              "outlinewidth": 0,
              "ticks": ""
             }
            },
            "type": "scatterpolargl"
           }
          ],
          "scatterternary": [
           {
            "marker": {
             "colorbar": {
              "outlinewidth": 0,
              "ticks": ""
             }
            },
            "type": "scatterternary"
           }
          ],
          "surface": [
           {
            "colorbar": {
             "outlinewidth": 0,
             "ticks": ""
            },
            "colorscale": [
             [
              0,
              "#0d0887"
             ],
             [
              0.1111111111111111,
              "#46039f"
             ],
             [
              0.2222222222222222,
              "#7201a8"
             ],
             [
              0.3333333333333333,
              "#9c179e"
             ],
             [
              0.4444444444444444,
              "#bd3786"
             ],
             [
              0.5555555555555556,
              "#d8576b"
             ],
             [
              0.6666666666666666,
              "#ed7953"
             ],
             [
              0.7777777777777778,
              "#fb9f3a"
             ],
             [
              0.8888888888888888,
              "#fdca26"
             ],
             [
              1,
              "#f0f921"
             ]
            ],
            "type": "surface"
           }
          ],
          "table": [
           {
            "cells": {
             "fill": {
              "color": "#EBF0F8"
             },
             "line": {
              "color": "white"
             }
            },
            "header": {
             "fill": {
              "color": "#C8D4E3"
             },
             "line": {
              "color": "white"
             }
            },
            "type": "table"
           }
          ]
         },
         "layout": {
          "annotationdefaults": {
           "arrowcolor": "#2a3f5f",
           "arrowhead": 0,
           "arrowwidth": 1
          },
          "autotypenumbers": "strict",
          "coloraxis": {
           "colorbar": {
            "outlinewidth": 0,
            "ticks": ""
           }
          },
          "colorscale": {
           "diverging": [
            [
             0,
             "#8e0152"
            ],
            [
             0.1,
             "#c51b7d"
            ],
            [
             0.2,
             "#de77ae"
            ],
            [
             0.3,
             "#f1b6da"
            ],
            [
             0.4,
             "#fde0ef"
            ],
            [
             0.5,
             "#f7f7f7"
            ],
            [
             0.6,
             "#e6f5d0"
            ],
            [
             0.7,
             "#b8e186"
            ],
            [
             0.8,
             "#7fbc41"
            ],
            [
             0.9,
             "#4d9221"
            ],
            [
             1,
             "#276419"
            ]
           ],
           "sequential": [
            [
             0,
             "#0d0887"
            ],
            [
             0.1111111111111111,
             "#46039f"
            ],
            [
             0.2222222222222222,
             "#7201a8"
            ],
            [
             0.3333333333333333,
             "#9c179e"
            ],
            [
             0.4444444444444444,
             "#bd3786"
            ],
            [
             0.5555555555555556,
             "#d8576b"
            ],
            [
             0.6666666666666666,
             "#ed7953"
            ],
            [
             0.7777777777777778,
             "#fb9f3a"
            ],
            [
             0.8888888888888888,
             "#fdca26"
            ],
            [
             1,
             "#f0f921"
            ]
           ],
           "sequentialminus": [
            [
             0,
             "#0d0887"
            ],
            [
             0.1111111111111111,
             "#46039f"
            ],
            [
             0.2222222222222222,
             "#7201a8"
            ],
            [
             0.3333333333333333,
             "#9c179e"
            ],
            [
             0.4444444444444444,
             "#bd3786"
            ],
            [
             0.5555555555555556,
             "#d8576b"
            ],
            [
             0.6666666666666666,
             "#ed7953"
            ],
            [
             0.7777777777777778,
             "#fb9f3a"
            ],
            [
             0.8888888888888888,
             "#fdca26"
            ],
            [
             1,
             "#f0f921"
            ]
           ]
          },
          "colorway": [
           "#636efa",
           "#EF553B",
           "#00cc96",
           "#ab63fa",
           "#FFA15A",
           "#19d3f3",
           "#FF6692",
           "#B6E880",
           "#FF97FF",
           "#FECB52"
          ],
          "font": {
           "color": "#2a3f5f"
          },
          "geo": {
           "bgcolor": "white",
           "lakecolor": "white",
           "landcolor": "#E5ECF6",
           "showlakes": true,
           "showland": true,
           "subunitcolor": "white"
          },
          "hoverlabel": {
           "align": "left"
          },
          "hovermode": "closest",
          "mapbox": {
           "style": "light"
          },
          "paper_bgcolor": "white",
          "plot_bgcolor": "#E5ECF6",
          "polar": {
           "angularaxis": {
            "gridcolor": "white",
            "linecolor": "white",
            "ticks": ""
           },
           "bgcolor": "#E5ECF6",
           "radialaxis": {
            "gridcolor": "white",
            "linecolor": "white",
            "ticks": ""
           }
          },
          "scene": {
           "xaxis": {
            "backgroundcolor": "#E5ECF6",
            "gridcolor": "white",
            "gridwidth": 2,
            "linecolor": "white",
            "showbackground": true,
            "ticks": "",
            "zerolinecolor": "white"
           },
           "yaxis": {
            "backgroundcolor": "#E5ECF6",
            "gridcolor": "white",
            "gridwidth": 2,
            "linecolor": "white",
            "showbackground": true,
            "ticks": "",
            "zerolinecolor": "white"
           },
           "zaxis": {
            "backgroundcolor": "#E5ECF6",
            "gridcolor": "white",
            "gridwidth": 2,
            "linecolor": "white",
            "showbackground": true,
            "ticks": "",
            "zerolinecolor": "white"
           }
          },
          "shapedefaults": {
           "line": {
            "color": "#2a3f5f"
           }
          },
          "ternary": {
           "aaxis": {
            "gridcolor": "white",
            "linecolor": "white",
            "ticks": ""
           },
           "baxis": {
            "gridcolor": "white",
            "linecolor": "white",
            "ticks": ""
           },
           "bgcolor": "#E5ECF6",
           "caxis": {
            "gridcolor": "white",
            "linecolor": "white",
            "ticks": ""
           }
          },
          "title": {
           "x": 0.05
          },
          "xaxis": {
           "automargin": true,
           "gridcolor": "white",
           "linecolor": "white",
           "ticks": "",
           "title": {
            "standoff": 15
           },
           "zerolinecolor": "white",
           "zerolinewidth": 2
          },
          "yaxis": {
           "automargin": true,
           "gridcolor": "white",
           "linecolor": "white",
           "ticks": "",
           "title": {
            "standoff": 15
           },
           "zerolinecolor": "white",
           "zerolinewidth": 2
          }
         }
        }
       }
      }
     },
     "metadata": {},
     "output_type": "display_data"
    }
   ],
   "source": [
    "# Cluster the latent space with GMM\n",
    "from sklearn.mixture import GaussianMixture\n",
    "gmm = GaussianMixture(n_components=10, random_state=42)\n",
    "gmm.fit(rbm_latent_space_final)\n",
    "gmm_predictions = gmm.predict(rbm_latent_space_final).reshape(-1, 1)\n",
    "print(f\"shape of gmm_predictions: {gmm_predictions.shape}\")\n",
    "print(f\"shape of latent_space: {rbm_latent_space_final.shape}\")\n",
    "plot_3d(tsne_latent, gmm_predictions, jasper_metadata[['title']])"
   ]
  }
 ],
 "metadata": {
  "kernelspec": {
   "display_name": "Python 3",
   "language": "python",
   "name": "python3"
  },
  "language_info": {
   "codemirror_mode": {
    "name": "ipython",
    "version": 3
   },
   "file_extension": ".py",
   "mimetype": "text/x-python",
   "name": "python",
   "nbconvert_exporter": "python",
   "pygments_lexer": "ipython3",
   "version": "3.12.3"
  }
 },
 "nbformat": 4,
 "nbformat_minor": 5
}
